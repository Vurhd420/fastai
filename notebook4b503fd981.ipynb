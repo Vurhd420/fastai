{
 "cells": [
  {
   "cell_type": "markdown",
   "id": "79839c3a",
   "metadata": {
    "papermill": {
     "duration": 0.007495,
     "end_time": "2023-04-11T16:43:22.588502",
     "exception": false,
     "start_time": "2023-04-11T16:43:22.581007",
     "status": "completed"
    },
    "tags": []
   },
   "source": [
    "*The data, concept, and initial implementation of this notebook was done in Colab by Ross Wightman, the creator of timm. I (Jeremy Howard) did some refactoring, curating, and expanding of the analysis, and added prose.*"
   ]
  },
  {
   "cell_type": "markdown",
   "id": "dbd8ba4c",
   "metadata": {
    "papermill": {
     "duration": 0.005983,
     "end_time": "2023-04-11T16:43:22.600945",
     "exception": false,
     "start_time": "2023-04-11T16:43:22.594962",
     "status": "completed"
    },
    "tags": []
   },
   "source": [
    "## timm\n",
    "\n",
    "[PyTorch Image Models](https://timm.fast.ai/) (timm) is a wonderful library by Ross Wightman which provides state-of-the-art pre-trained computer vision models. It's like Huggingface Transformers, but for computer vision instead of NLP (and it's not restricted to transformers-based models)!\n",
    "\n",
    "Ross has been kind enough to help me understand how to best take advantage of this library by identifying the top models. I'm going to share here so of what I've learned from him, plus some additional ideas."
   ]
  },
  {
   "cell_type": "markdown",
   "id": "d5d67d92",
   "metadata": {
    "papermill": {
     "duration": 0.00587,
     "end_time": "2023-04-11T16:43:22.613125",
     "exception": false,
     "start_time": "2023-04-11T16:43:22.607255",
     "status": "completed"
    },
    "tags": []
   },
   "source": [
    "## The data\n",
    "\n",
    "Ross regularly benchmarks new models as they are added to timm, and puts the results in a CSV in the project's GitHub repo. To analyse the data, we'll first clone the repo:"
   ]
  },
  {
   "cell_type": "code",
   "execution_count": 1,
   "id": "649d23d1",
   "metadata": {
    "execution": {
     "iopub.execute_input": "2023-04-11T16:43:22.627439Z",
     "iopub.status.busy": "2023-04-11T16:43:22.627025Z",
     "iopub.status.idle": "2023-04-11T16:43:25.357527Z",
     "shell.execute_reply": "2023-04-11T16:43:25.356235Z"
    },
    "papermill": {
     "duration": 2.74118,
     "end_time": "2023-04-11T16:43:25.360547",
     "exception": false,
     "start_time": "2023-04-11T16:43:22.619367",
     "status": "completed"
    },
    "tags": []
   },
   "outputs": [
    {
     "name": "stdout",
     "output_type": "stream",
     "text": [
      "Cloning into 'pytorch-image-models'...\r\n",
      "remote: Enumerating objects: 551, done.\u001b[K\r\n",
      "remote: Counting objects: 100% (551/551), done.\u001b[K\r\n",
      "remote: Compressing objects: 100% (386/386), done.\u001b[K\r\n",
      "remote: Total 551 (delta 227), reused 346 (delta 159), pack-reused 0\u001b[K\r\n",
      "Receiving objects: 100% (551/551), 2.27 MiB | 8.32 MiB/s, done.\r\n",
      "Resolving deltas: 100% (227/227), done.\r\n",
      "/kaggle/working/pytorch-image-models/results\n"
     ]
    }
   ],
   "source": [
    "! git clone --depth 1 https://github.com/rwightman/pytorch-image-models.git\n",
    "%cd pytorch-image-models/results"
   ]
  },
  {
   "cell_type": "markdown",
   "id": "a44e15d8",
   "metadata": {
    "papermill": {
     "duration": 0.007311,
     "end_time": "2023-04-11T16:43:25.375876",
     "exception": false,
     "start_time": "2023-04-11T16:43:25.368565",
     "status": "completed"
    },
    "tags": []
   },
   "source": [
    "Using Pandas, we can read the two CSV files we need, and merge them together."
   ]
  },
  {
   "cell_type": "code",
   "execution_count": 2,
   "id": "53fd1a83",
   "metadata": {
    "execution": {
     "iopub.execute_input": "2023-04-11T16:43:25.393626Z",
     "iopub.status.busy": "2023-04-11T16:43:25.393180Z",
     "iopub.status.idle": "2023-04-11T16:43:25.411977Z",
     "shell.execute_reply": "2023-04-11T16:43:25.410471Z"
    },
    "papermill": {
     "duration": 0.031426,
     "end_time": "2023-04-11T16:43:25.415238",
     "exception": false,
     "start_time": "2023-04-11T16:43:25.383812",
     "status": "completed"
    },
    "tags": []
   },
   "outputs": [],
   "source": [
    "import pandas as pd\n",
    "df_results = pd.read_csv('results-imagenet.csv')"
   ]
  },
  {
   "cell_type": "markdown",
   "id": "a3792b5d",
   "metadata": {
    "papermill": {
     "duration": 0.007296,
     "end_time": "2023-04-11T16:43:25.431800",
     "exception": false,
     "start_time": "2023-04-11T16:43:25.424504",
     "status": "completed"
    },
    "tags": []
   },
   "source": [
    "We'll also add a \"family\" column that will allow us to group architectures into categories with similar characteristics:\n",
    "\n",
    "Ross has told me which models he's found the most usable in practice, so I'll limit the charts to just look at these. (I also include VGG, not because it's good, but as a comparison to show how far things have come in the last few years.)"
   ]
  },
  {
   "cell_type": "code",
   "execution_count": 3,
   "id": "2bc41a4e",
   "metadata": {
    "execution": {
     "iopub.execute_input": "2023-04-11T16:43:25.449954Z",
     "iopub.status.busy": "2023-04-11T16:43:25.449092Z",
     "iopub.status.idle": "2023-04-11T16:43:25.457391Z",
     "shell.execute_reply": "2023-04-11T16:43:25.456218Z"
    },
    "papermill": {
     "duration": 0.020183,
     "end_time": "2023-04-11T16:43:25.459733",
     "exception": false,
     "start_time": "2023-04-11T16:43:25.439550",
     "status": "completed"
    },
    "tags": []
   },
   "outputs": [],
   "source": [
    "def get_data(part, col):\n",
    "    df = pd.read_csv(f'benchmark-{part}-amp-nhwc-pt111-cu113-rtx3090.csv').merge(df_results, on='model')\n",
    "    df['secs'] = 1. / df[col]\n",
    "    df['family'] = df.model.str.extract('^([a-z]+?(?:v2)?)(?:\\d|_|$)')\n",
    "    df = df[~df.model.str.endswith('gn')]\n",
    "    df.loc[df.model.str.contains('in22'),'family'] = df.loc[df.model.str.contains('in22'),'family'] + '_in22'\n",
    "    df.loc[df.model.str.contains('resnet.*d'),'family'] = df.loc[df.model.str.contains('resnet.*d'),'family'] + 'd'\n",
    "    return df[df.family.str.contains('^re[sg]netd?|beit|convnext|levit|efficient|vit|vgg')]"
   ]
  },
  {
   "cell_type": "code",
   "execution_count": 4,
   "id": "3d61794c",
   "metadata": {
    "execution": {
     "iopub.execute_input": "2023-04-11T16:43:25.477021Z",
     "iopub.status.busy": "2023-04-11T16:43:25.476582Z",
     "iopub.status.idle": "2023-04-11T16:43:25.514437Z",
     "shell.execute_reply": "2023-04-11T16:43:25.513405Z"
    },
    "papermill": {
     "duration": 0.049783,
     "end_time": "2023-04-11T16:43:25.517141",
     "exception": false,
     "start_time": "2023-04-11T16:43:25.467358",
     "status": "completed"
    },
    "tags": []
   },
   "outputs": [],
   "source": [
    "df = get_data('infer', 'infer_samples_per_sec')"
   ]
  },
  {
   "cell_type": "markdown",
   "id": "bce0c05a",
   "metadata": {
    "papermill": {
     "duration": 0.008228,
     "end_time": "2023-04-11T16:43:25.532894",
     "exception": false,
     "start_time": "2023-04-11T16:43:25.524666",
     "status": "completed"
    },
    "tags": []
   },
   "source": [
    "## Inference results"
   ]
  },
  {
   "cell_type": "markdown",
   "id": "6a314df4",
   "metadata": {
    "papermill": {
     "duration": 0.007068,
     "end_time": "2023-04-11T16:43:25.547387",
     "exception": false,
     "start_time": "2023-04-11T16:43:25.540319",
     "status": "completed"
    },
    "tags": []
   },
   "source": [
    "Here's the results for inference performance (see the last section for training performance). In this chart:\n",
    "\n",
    "- the x axis shows how many seconds it takes to process one image (**note**: it's a log scale)\n",
    "- the y axis is the accuracy on Imagenet\n",
    "- the size of each bubble is proportional to the size of images used in testing\n",
    "- the color shows what \"family\" the architecture is from.\n",
    "\n",
    "Hover your mouse over a marker to see details about the model. Double-click in the legend to display just one family. Single-click in the legend to show or hide a family.\n",
    "\n",
    "**Note**: on my screen, Kaggle cuts off the family selector and some plotly functionality -- to see the whole thing, collapse the table of contents on the right by clicking the little arrow to the right of \"*Contents*\"."
   ]
  },
  {
   "cell_type": "code",
   "execution_count": 5,
   "id": "2fc73c13",
   "metadata": {
    "execution": {
     "iopub.execute_input": "2023-04-11T16:43:25.565339Z",
     "iopub.status.busy": "2023-04-11T16:43:25.564209Z",
     "iopub.status.idle": "2023-04-11T16:43:27.668546Z",
     "shell.execute_reply": "2023-04-11T16:43:27.667438Z"
    },
    "papermill": {
     "duration": 2.116607,
     "end_time": "2023-04-11T16:43:27.671569",
     "exception": false,
     "start_time": "2023-04-11T16:43:25.554962",
     "status": "completed"
    },
    "tags": []
   },
   "outputs": [],
   "source": [
    "import plotly.express as px\n",
    "w,h = 1000,800\n",
    "\n",
    "def show_all(df, title, size):\n",
    "    return px.scatter(df, width=w, height=h, size=df[size]**2, title=title,\n",
    "        x='secs',  y='top1', log_x=True, color='family', hover_name='model', hover_data=[size])"
   ]
  },
  {
   "cell_type": "code",
   "execution_count": 6,
   "id": "665f658e",
   "metadata": {
    "execution": {
     "iopub.execute_input": "2023-04-11T16:43:27.688877Z",
     "iopub.status.busy": "2023-04-11T16:43:27.688445Z",
     "iopub.status.idle": "2023-04-11T16:43:29.474731Z",
     "shell.execute_reply": "2023-04-11T16:43:29.473684Z"
    },
    "papermill": {
     "duration": 1.79801,
     "end_time": "2023-04-11T16:43:29.477487",
     "exception": false,
     "start_time": "2023-04-11T16:43:27.679477",
     "status": "completed"
    },
    "tags": []
   },
   "outputs": [
    {
     "data": {
      "text/html": [
       "        <script type=\"text/javascript\">\n",
       "        window.PlotlyConfig = {MathJaxConfig: 'local'};\n",
       "        if (window.MathJax && window.MathJax.Hub && window.MathJax.Hub.Config) {window.MathJax.Hub.Config({SVG: {font: \"STIX-Web\"}});}\n",
       "        if (typeof require !== 'undefined') {\n",
       "        require.undef(\"plotly\");\n",
       "        requirejs.config({\n",
       "            paths: {\n",
       "                'plotly': ['https://cdn.plot.ly/plotly-2.18.0.min']\n",
       "            }\n",
       "        });\n",
       "        require(['plotly'], function(Plotly) {\n",
       "            window._Plotly = Plotly;\n",
       "        });\n",
       "        }\n",
       "        </script>\n",
       "        "
      ]
     },
     "metadata": {},
     "output_type": "display_data"
    },
    {
     "data": {
      "text/html": [
       "<div>                            <div id=\"63469203-a085-4e4f-a4b7-6a5c94115153\" class=\"plotly-graph-div\" style=\"height:800px; width:1000px;\"></div>            <script type=\"text/javascript\">                require([\"plotly\"], function(Plotly) {                    window.PLOTLYENV=window.PLOTLYENV || {};                                    if (document.getElementById(\"63469203-a085-4e4f-a4b7-6a5c94115153\")) {                    Plotly.newPlot(                        \"63469203-a085-4e4f-a4b7-6a5c94115153\",                        [{\"customdata\":[[224],[224],[224],[224],[224]],\"hovertemplate\":\"<b>%{hovertext}</b><br><br>family=levit<br>secs=%{x}<br>top1=%{y}<br>size=%{marker.size}<br>infer_img_size=%{customdata[0]}<extra></extra>\",\"hovertext\":[\"levit_128s\",\"levit_128\",\"levit_192\",\"levit_256\",\"levit_384\"],\"legendgroup\":\"levit\",\"marker\":{\"color\":\"#636efa\",\"size\":[50176,50176,50176,50176,50176],\"sizemode\":\"area\",\"sizeref\":576.0,\"symbol\":\"circle\"},\"mode\":\"markers\",\"name\":\"levit\",\"orientation\":\"v\",\"showlegend\":true,\"x\":[0.00004654236751715086,0.00006822292249261998,0.00007756230968148262,0.00010599687945186893,0.00017720128293728847],\"xaxis\":\"x\",\"y\":[76.53,78.486,79.842,81.51,82.586],\"yaxis\":\"y\",\"type\":\"scatter\"},{\"customdata\":[[224],[224],[224],[224],[224],[224],[224],[224],[224],[224],[224],[224]],\"hovertemplate\":\"<b>%{hovertext}</b><br><br>family=regnetx<br>secs=%{x}<br>top1=%{y}<br>size=%{marker.size}<br>infer_img_size=%{customdata[0]}<extra></extra>\",\"hovertext\":[\"regnetx_002\",\"regnetx_004\",\"regnetx_008\",\"regnetx_006\",\"regnetx_016\",\"regnetx_032\",\"regnetx_040\",\"regnetx_080\",\"regnetx_064\",\"regnetx_120\",\"regnetx_160\",\"regnetx_320\"],\"legendgroup\":\"regnetx\",\"marker\":{\"color\":\"#EF553B\",\"size\":[50176,50176,50176,50176,50176,50176,50176,50176,50176,50176,50176,50176],\"sizemode\":\"area\",\"sizeref\":576.0,\"symbol\":\"circle\"},\"mode\":\"markers\",\"name\":\"regnetx\",\"orientation\":\"v\",\"showlegend\":true,\"x\":[0.00005611048828469115,0.00006925193368711838,0.00011822399190402103,0.0001259786970023369,0.00026479614668647344,0.0006228278877415016,0.0006304057291272663,0.0007938902208602596,0.0008572212316554657,0.0012854296548621376,0.001604157977477622,0.0038134462113411888],\"xaxis\":\"x\",\"y\":[68.762,72.396,75.038,73.852,76.95,78.172,78.482,79.194,79.072,79.596,79.856,80.246],\"yaxis\":\"y\",\"type\":\"scatter\"},{\"customdata\":[[224],[224],[224],[224],[224],[288],[288],[224],[288],[288],[224],[288]],\"hovertemplate\":\"<b>%{hovertext}</b><br><br>family=regnety<br>secs=%{x}<br>top1=%{y}<br>size=%{marker.size}<br>infer_img_size=%{customdata[0]}<extra></extra>\",\"hovertext\":[\"regnety_002\",\"regnety_006\",\"regnety_004\",\"regnety_008\",\"regnety_016\",\"regnety_032\",\"regnety_040\",\"regnety_120\",\"regnety_080\",\"regnety_064\",\"regnety_320\",\"regnety_160\"],\"legendgroup\":\"regnety\",\"marker\":{\"color\":\"#00cc96\",\"size\":[50176,50176,50176,50176,50176,82944,82944,50176,82944,82944,50176,82944],\"sizemode\":\"area\",\"sizeref\":576.0,\"symbol\":\"circle\"},\"mode\":\"markers\",\"name\":\"regnety\",\"orientation\":\"v\",\"showlegend\":true,\"x\":[0.000059976920880845045,0.00010017450398594352,0.00010468376082691796,0.00012704688411164372,0.00029335406368716726,0.0007311277645768598,0.0011773986554107355,0.0013256445946841651,0.0018643499011894553,0.0021192726656211586,0.002407666008571291,0.0024128362890577875],\"xaxis\":\"x\",\"y\":[70.252,75.246,74.034,76.316,77.862,82.724,83.038,80.366,83.932,83.716,80.81,83.686],\"yaxis\":\"y\",\"type\":\"scatter\"},{\"customdata\":[[224],[224],[224],[256],[224],[256],[256],[224],[288],[288],[224]],\"hovertemplate\":\"<b>%{hovertext}</b><br><br>family=resnet<br>secs=%{x}<br>top1=%{y}<br>size=%{marker.size}<br>infer_img_size=%{customdata[0]}<extra></extra>\",\"hovertext\":[\"resnet18\",\"resnet34\",\"resnet26\",\"resnet26t\",\"resnet50\",\"resnet32ts\",\"resnet33ts\",\"resnet101\",\"resnet51q\",\"resnet61q\",\"resnet152\"],\"legendgroup\":\"resnet\",\"marker\":{\"color\":\"#ab63fa\",\"size\":[50176,50176,50176,65536,50176,65536,65536,50176,82944,82944,50176],\"sizemode\":\"area\",\"sizeref\":576.0,\"symbol\":\"circle\"},\"mode\":\"markers\",\"name\":\"resnet\",\"orientation\":\"v\",\"showlegend\":true,\"x\":[0.00009236979323021786,0.00015969338869370808,0.00017561482751111642,0.0002638710409448694,0.00028338807446305045,0.00029286350217890445,0.00029674294938752255,0.00046063207933926936,0.000534896657965681,0.0005959830740806961,0.0006634335339114052],\"xaxis\":\"x\",\"y\":[69.748,75.11,75.292,77.882,80.374,79.004,79.214,81.938,82.36,82.524,82.822],\"yaxis\":\"y\",\"type\":\"scatter\"},{\"customdata\":[[224],[224],[224],[224],[320],[320],[320]],\"hovertemplate\":\"<b>%{hovertext}</b><br><br>family=resnetd<br>secs=%{x}<br>top1=%{y}<br>size=%{marker.size}<br>infer_img_size=%{customdata[0]}<extra></extra>\",\"hovertext\":[\"resnet18d\",\"resnet34d\",\"resnet26d\",\"resnet50d\",\"resnet101d\",\"resnet152d\",\"resnet200d\"],\"legendgroup\":\"resnetd\",\"marker\":{\"color\":\"#FFA15A\",\"size\":[50176,50176,50176,50176,102400,102400,102400],\"sizemode\":\"area\",\"sizeref\":576.0,\"symbol\":\"circle\"},\"mode\":\"markers\",\"name\":\"resnetd\",\"orientation\":\"v\",\"showlegend\":true,\"x\":[0.00011218547400045547,0.00017947263760167124,0.0002044542400742578,0.00031235065734195835,0.0010008807750820723,0.0014054023666975855,0.0019066503965832825],\"xaxis\":\"x\",\"y\":[72.26,77.116,76.696,80.53,83.022,83.68,83.962],\"yaxis\":\"y\",\"type\":\"scatter\"},{\"customdata\":[[256],[256],[256]],\"hovertemplate\":\"<b>%{hovertext}</b><br><br>family=mobilevit<br>secs=%{x}<br>top1=%{y}<br>size=%{marker.size}<br>infer_img_size=%{customdata[0]}<extra></extra>\",\"hovertext\":[\"mobilevit_xxs\",\"mobilevit_xs\",\"mobilevit_s\"],\"legendgroup\":\"mobilevit\",\"marker\":{\"color\":\"#19d3f3\",\"size\":[65536,65536,65536],\"sizemode\":\"area\",\"sizeref\":576.0,\"symbol\":\"circle\"},\"mode\":\"markers\",\"name\":\"mobilevit\",\"orientation\":\"v\",\"showlegend\":true,\"x\":[0.00019510063290645313,0.00032276493352656195,0.0004140683875348853],\"xaxis\":\"x\",\"y\":[68.912,74.644,78.312],\"yaxis\":\"y\",\"type\":\"scatter\"},{\"customdata\":[[224],[224],[224],[224],[224],[224],[224],[224]],\"hovertemplate\":\"<b>%{hovertext}</b><br><br>family=repvgg<br>secs=%{x}<br>top1=%{y}<br>size=%{marker.size}<br>infer_img_size=%{customdata[0]}<extra></extra>\",\"hovertext\":[\"repvgg_b0\",\"repvgg_a2\",\"repvgg_b1\",\"repvgg_b1g4\",\"repvgg_b2\",\"repvgg_b3\",\"repvgg_b2g4\",\"repvgg_b3g4\"],\"legendgroup\":\"repvgg\",\"marker\":{\"color\":\"#FF6692\",\"size\":[50176,50176,50176,50176,50176,50176,50176,50176],\"sizemode\":\"area\",\"sizeref\":576.0,\"symbol\":\"circle\"},\"mode\":\"markers\",\"name\":\"repvgg\",\"orientation\":\"v\",\"showlegend\":true,\"x\":[0.00019805588344807372,0.00025848743492578826,0.0005164995790528431,0.0006192755714365336,0.0008039813154742284,0.0009981932701809725,0.0012302090125112257,0.0015526503741887404],\"xaxis\":\"x\",\"y\":[75.152,76.46,78.366,77.594,78.792,80.492,79.366,80.212],\"yaxis\":\"y\",\"type\":\"scatter\"},{\"customdata\":[[240],[240],[240],[240],[240],[240],[240],[240],[240],[408],[408]],\"hovertemplate\":\"<b>%{hovertext}</b><br><br>family=crossvit<br>secs=%{x}<br>top1=%{y}<br>size=%{marker.size}<br>infer_img_size=%{customdata[0]}<extra></extra>\",\"hovertext\":[\"crossvit_tiny_240\",\"crossvit_9_240\",\"crossvit_9_dagger_240\",\"crossvit_small_240\",\"crossvit_15_240\",\"crossvit_15_dagger_240\",\"crossvit_18_240\",\"crossvit_18_dagger_240\",\"crossvit_base_240\",\"crossvit_15_dagger_408\",\"crossvit_18_dagger_408\"],\"legendgroup\":\"crossvit\",\"marker\":{\"color\":\"#B6E880\",\"size\":[57600,57600,57600,57600,57600,57600,57600,57600,57600,166464,166464],\"sizemode\":\"area\",\"sizeref\":576.0,\"symbol\":\"circle\"},\"mode\":\"markers\",\"name\":\"crossvit\",\"orientation\":\"v\",\"showlegend\":true,\"x\":[0.00025943432938820195,0.0002746551018558445,0.0002807190900209978,0.0005422640609070993,0.0005881107530170082,0.0006054331571522846,0.0008294969101240098,0.0008531185749507324,0.0013383297644539614,0.002823662289990117,0.0038593647485623862],\"xaxis\":\"x\",\"y\":[73.324,73.964,76.98,81.02,81.536,82.332,82.4,82.518,82.216,83.838,84.196],\"yaxis\":\"y\",\"type\":\"scatter\"},{\"customdata\":[[224],[224],[224],[384],[448],[448],[448],[480]],\"hovertemplate\":\"<b>%{hovertext}</b><br><br>family=resnetv2<br>secs=%{x}<br>top1=%{y}<br>size=%{marker.size}<br>infer_img_size=%{customdata[0]}<extra></extra>\",\"hovertext\":[\"resnetv2_50\",\"resnetv2_101\",\"resnetv2_152x2_bit_teacher\",\"resnetv2_152x2_bit_teacher_384\",\"resnetv2_50x3_bitm\",\"resnetv2_152x2_bitm\",\"resnetv2_101x3_bitm\",\"resnetv2_152x4_bitm\"],\"legendgroup\":\"resnetv2\",\"marker\":{\"color\":\"#FF97FF\",\"size\":[50176,50176,50176,147456,200704,200704,200704,230400],\"sizemode\":\"area\",\"sizeref\":576.0,\"symbol\":\"circle\"},\"mode\":\"markers\",\"name\":\"resnetv2\",\"orientation\":\"v\",\"showlegend\":true,\"x\":[0.00027003891260730673,0.0004473172150030194,0.0035710459593614975,0.010310341272296113,0.01076194575979337,0.014216661927779357,0.017295053614666205,0.05461496450027308],\"xaxis\":\"x\",\"y\":[80.432,82.03,82.862,83.844,84.014,84.51,84.44,84.916],\"yaxis\":\"y\",\"type\":\"scatter\"},{\"customdata\":[[224],[224],[224]],\"hovertemplate\":\"<b>%{hovertext}</b><br><br>family=convit<br>secs=%{x}<br>top1=%{y}<br>size=%{marker.size}<br>infer_img_size=%{customdata[0]}<extra></extra>\",\"hovertext\":[\"convit_tiny\",\"convit_small\",\"convit_base\"],\"legendgroup\":\"convit\",\"marker\":{\"color\":\"#FECB52\",\"size\":[50176,50176,50176],\"sizemode\":\"area\",\"sizeref\":576.0,\"symbol\":\"circle\"},\"mode\":\"markers\",\"name\":\"convit\",\"orientation\":\"v\",\"showlegend\":true,\"x\":[0.0003142578800163414,0.0007307163943530237,0.0014544608313698112],\"xaxis\":\"x\",\"y\":[73.116,81.426,82.288],\"yaxis\":\"y\",\"type\":\"scatter\"},{\"customdata\":[[224],[288],[320],[320],[352],[384],[416]],\"hovertemplate\":\"<b>%{hovertext}</b><br><br>family=resnetrs<br>secs=%{x}<br>top1=%{y}<br>size=%{marker.size}<br>infer_img_size=%{customdata[0]}<extra></extra>\",\"hovertext\":[\"resnetrs50\",\"resnetrs101\",\"resnetrs152\",\"resnetrs200\",\"resnetrs270\",\"resnetrs350\",\"resnetrs420\"],\"legendgroup\":\"resnetrs\",\"marker\":{\"color\":\"#636efa\",\"size\":[50176,82944,102400,102400,123904,147456,173056],\"sizemode\":\"area\",\"sizeref\":576.0,\"symbol\":\"circle\"},\"mode\":\"markers\",\"name\":\"resnetrs\",\"orientation\":\"v\",\"showlegend\":true,\"x\":[0.000351576645466595,0.0009125586318920991,0.0015921792156925183,0.0021917327839389824,0.0034781398907864076,0.005297171310520182,0.007450454477723141],\"xaxis\":\"x\",\"y\":[79.892,82.288,83.712,84.448,84.434,84.72,85.008],\"yaxis\":\"y\",\"type\":\"scatter\"},{\"customdata\":[[288],[320],[320],[320],[320],[320],[320],[320],[320]],\"hovertemplate\":\"<b>%{hovertext}</b><br><br>family=regnetz<br>secs=%{x}<br>top1=%{y}<br>size=%{marker.size}<br>infer_img_size=%{customdata[0]}<extra></extra>\",\"hovertext\":[\"regnetz_b16\",\"regnetz_c16\",\"regnetz_d8\",\"regnetz_040\",\"regnetz_040h\",\"regnetz_d32\",\"regnetz_e8\",\"regnetz_c16_evos\",\"regnetz_d8_evos\"],\"legendgroup\":\"regnetz\",\"marker\":{\"color\":\"#EF553B\",\"size\":[82944,102400,102400,102400,102400,102400,102400,102400,102400],\"sizemode\":\"area\",\"sizeref\":576.0,\"symbol\":\"circle\"},\"mode\":\"markers\",\"name\":\"regnetz\",\"orientation\":\"v\",\"showlegend\":true,\"x\":[0.00036824952587873543,0.0005641494319015222,0.0008748829844008363,0.000961917679085024,0.0009669590106075403,0.0009901872444079175,0.0016463344363774057,0.00167117884956048,0.002579646588417387],\"xaxis\":\"x\",\"y\":[80.716,82.518,84.05,84.236,84.494,84.022,85.03,82.63,84.05],\"yaxis\":\"y\",\"type\":\"scatter\"},{\"customdata\":[[224]],\"hovertemplate\":\"<b>%{hovertext}</b><br><br>family=resnetblur<br>secs=%{x}<br>top1=%{y}<br>size=%{marker.size}<br>infer_img_size=%{customdata[0]}<extra></extra>\",\"hovertext\":[\"resnetblur50\"],\"legendgroup\":\"resnetblur\",\"marker\":{\"color\":\"#00cc96\",\"size\":[50176],\"sizemode\":\"area\",\"sizeref\":576.0,\"symbol\":\"circle\"},\"mode\":\"markers\",\"name\":\"resnetblur\",\"orientation\":\"v\",\"showlegend\":true,\"x\":[0.00038181346121538863],\"xaxis\":\"x\",\"y\":[79.286],\"yaxis\":\"y\",\"type\":\"scatter\"},{\"customdata\":[[224],[224],[224],[224],[224],[224],[224]],\"hovertemplate\":\"<b>%{hovertext}</b><br><br>family=vgg<br>secs=%{x}<br>top1=%{y}<br>size=%{marker.size}<br>infer_img_size=%{customdata[0]}<extra></extra>\",\"hovertext\":[\"vgg11_bn\",\"vgg13\",\"vgg13_bn\",\"vgg16\",\"vgg19\",\"vgg16_bn\",\"vgg19_bn\"],\"legendgroup\":\"vgg\",\"marker\":{\"color\":\"#ab63fa\",\"size\":[50176,50176,50176,50176,50176,50176,50176],\"sizemode\":\"area\",\"sizeref\":576.0,\"symbol\":\"circle\"},\"mode\":\"markers\",\"name\":\"vgg\",\"orientation\":\"v\",\"showlegend\":true,\"x\":[0.0003856239395341663,0.000495051955702751,0.000609002271578473,0.00061273383454961,0.0007314379338341244,0.0007335465508641178,0.0008591212907438273],\"xaxis\":\"x\",\"y\":[70.36,69.926,71.594,71.594,72.368,73.35,74.214],\"yaxis\":\"y\",\"type\":\"scatter\"},{\"customdata\":[[224],[288]],\"hovertemplate\":\"<b>%{hovertext}</b><br><br>family=resnetv2d<br>secs=%{x}<br>top1=%{y}<br>size=%{marker.size}<br>infer_img_size=%{customdata[0]}<extra></extra>\",\"hovertext\":[\"resnetv2_50x1_bit_distilled\",\"resnetv2_50d_evos\"],\"legendgroup\":\"resnetv2d\",\"marker\":{\"color\":\"#FFA15A\",\"size\":[50176,82944],\"sizemode\":\"area\",\"sizeref\":576.0,\"symbol\":\"circle\"},\"mode\":\"markers\",\"name\":\"resnetv2d\",\"orientation\":\"v\",\"showlegend\":true,\"x\":[0.0006401843730994526,0.0011976191331632715],\"xaxis\":\"x\",\"y\":[82.818,81.976],\"yaxis\":\"y\",\"type\":\"scatter\"},{\"customdata\":[[288],[288]],\"hovertemplate\":\"<b>%{hovertext}</b><br><br>family=regnetv<br>secs=%{x}<br>top1=%{y}<br>size=%{marker.size}<br>infer_img_size=%{customdata[0]}<extra></extra>\",\"hovertext\":[\"regnetv_040\",\"regnetv_064\"],\"legendgroup\":\"regnetv\",\"marker\":{\"color\":\"#19d3f3\",\"size\":[82944,82944],\"sizemode\":\"area\",\"sizeref\":576.0,\"symbol\":\"circle\"},\"mode\":\"markers\",\"name\":\"regnetv\",\"orientation\":\"v\",\"showlegend\":true,\"x\":[0.0011776343680813981,0.0021355201059217975],\"xaxis\":\"x\",\"y\":[83.194,83.712],\"yaxis\":\"y\",\"type\":\"scatter\"}],                        {\"template\":{\"data\":{\"histogram2dcontour\":[{\"type\":\"histogram2dcontour\",\"colorbar\":{\"outlinewidth\":0,\"ticks\":\"\"},\"colorscale\":[[0.0,\"#0d0887\"],[0.1111111111111111,\"#46039f\"],[0.2222222222222222,\"#7201a8\"],[0.3333333333333333,\"#9c179e\"],[0.4444444444444444,\"#bd3786\"],[0.5555555555555556,\"#d8576b\"],[0.6666666666666666,\"#ed7953\"],[0.7777777777777778,\"#fb9f3a\"],[0.8888888888888888,\"#fdca26\"],[1.0,\"#f0f921\"]]}],\"choropleth\":[{\"type\":\"choropleth\",\"colorbar\":{\"outlinewidth\":0,\"ticks\":\"\"}}],\"histogram2d\":[{\"type\":\"histogram2d\",\"colorbar\":{\"outlinewidth\":0,\"ticks\":\"\"},\"colorscale\":[[0.0,\"#0d0887\"],[0.1111111111111111,\"#46039f\"],[0.2222222222222222,\"#7201a8\"],[0.3333333333333333,\"#9c179e\"],[0.4444444444444444,\"#bd3786\"],[0.5555555555555556,\"#d8576b\"],[0.6666666666666666,\"#ed7953\"],[0.7777777777777778,\"#fb9f3a\"],[0.8888888888888888,\"#fdca26\"],[1.0,\"#f0f921\"]]}],\"heatmap\":[{\"type\":\"heatmap\",\"colorbar\":{\"outlinewidth\":0,\"ticks\":\"\"},\"colorscale\":[[0.0,\"#0d0887\"],[0.1111111111111111,\"#46039f\"],[0.2222222222222222,\"#7201a8\"],[0.3333333333333333,\"#9c179e\"],[0.4444444444444444,\"#bd3786\"],[0.5555555555555556,\"#d8576b\"],[0.6666666666666666,\"#ed7953\"],[0.7777777777777778,\"#fb9f3a\"],[0.8888888888888888,\"#fdca26\"],[1.0,\"#f0f921\"]]}],\"heatmapgl\":[{\"type\":\"heatmapgl\",\"colorbar\":{\"outlinewidth\":0,\"ticks\":\"\"},\"colorscale\":[[0.0,\"#0d0887\"],[0.1111111111111111,\"#46039f\"],[0.2222222222222222,\"#7201a8\"],[0.3333333333333333,\"#9c179e\"],[0.4444444444444444,\"#bd3786\"],[0.5555555555555556,\"#d8576b\"],[0.6666666666666666,\"#ed7953\"],[0.7777777777777778,\"#fb9f3a\"],[0.8888888888888888,\"#fdca26\"],[1.0,\"#f0f921\"]]}],\"contourcarpet\":[{\"type\":\"contourcarpet\",\"colorbar\":{\"outlinewidth\":0,\"ticks\":\"\"}}],\"contour\":[{\"type\":\"contour\",\"colorbar\":{\"outlinewidth\":0,\"ticks\":\"\"},\"colorscale\":[[0.0,\"#0d0887\"],[0.1111111111111111,\"#46039f\"],[0.2222222222222222,\"#7201a8\"],[0.3333333333333333,\"#9c179e\"],[0.4444444444444444,\"#bd3786\"],[0.5555555555555556,\"#d8576b\"],[0.6666666666666666,\"#ed7953\"],[0.7777777777777778,\"#fb9f3a\"],[0.8888888888888888,\"#fdca26\"],[1.0,\"#f0f921\"]]}],\"surface\":[{\"type\":\"surface\",\"colorbar\":{\"outlinewidth\":0,\"ticks\":\"\"},\"colorscale\":[[0.0,\"#0d0887\"],[0.1111111111111111,\"#46039f\"],[0.2222222222222222,\"#7201a8\"],[0.3333333333333333,\"#9c179e\"],[0.4444444444444444,\"#bd3786\"],[0.5555555555555556,\"#d8576b\"],[0.6666666666666666,\"#ed7953\"],[0.7777777777777778,\"#fb9f3a\"],[0.8888888888888888,\"#fdca26\"],[1.0,\"#f0f921\"]]}],\"mesh3d\":[{\"type\":\"mesh3d\",\"colorbar\":{\"outlinewidth\":0,\"ticks\":\"\"}}],\"scatter\":[{\"fillpattern\":{\"fillmode\":\"overlay\",\"size\":10,\"solidity\":0.2},\"type\":\"scatter\"}],\"parcoords\":[{\"type\":\"parcoords\",\"line\":{\"colorbar\":{\"outlinewidth\":0,\"ticks\":\"\"}}}],\"scatterpolargl\":[{\"type\":\"scatterpolargl\",\"marker\":{\"colorbar\":{\"outlinewidth\":0,\"ticks\":\"\"}}}],\"bar\":[{\"error_x\":{\"color\":\"#2a3f5f\"},\"error_y\":{\"color\":\"#2a3f5f\"},\"marker\":{\"line\":{\"color\":\"#E5ECF6\",\"width\":0.5},\"pattern\":{\"fillmode\":\"overlay\",\"size\":10,\"solidity\":0.2}},\"type\":\"bar\"}],\"scattergeo\":[{\"type\":\"scattergeo\",\"marker\":{\"colorbar\":{\"outlinewidth\":0,\"ticks\":\"\"}}}],\"scatterpolar\":[{\"type\":\"scatterpolar\",\"marker\":{\"colorbar\":{\"outlinewidth\":0,\"ticks\":\"\"}}}],\"histogram\":[{\"marker\":{\"pattern\":{\"fillmode\":\"overlay\",\"size\":10,\"solidity\":0.2}},\"type\":\"histogram\"}],\"scattergl\":[{\"type\":\"scattergl\",\"marker\":{\"colorbar\":{\"outlinewidth\":0,\"ticks\":\"\"}}}],\"scatter3d\":[{\"type\":\"scatter3d\",\"line\":{\"colorbar\":{\"outlinewidth\":0,\"ticks\":\"\"}},\"marker\":{\"colorbar\":{\"outlinewidth\":0,\"ticks\":\"\"}}}],\"scattermapbox\":[{\"type\":\"scattermapbox\",\"marker\":{\"colorbar\":{\"outlinewidth\":0,\"ticks\":\"\"}}}],\"scatterternary\":[{\"type\":\"scatterternary\",\"marker\":{\"colorbar\":{\"outlinewidth\":0,\"ticks\":\"\"}}}],\"scattercarpet\":[{\"type\":\"scattercarpet\",\"marker\":{\"colorbar\":{\"outlinewidth\":0,\"ticks\":\"\"}}}],\"carpet\":[{\"aaxis\":{\"endlinecolor\":\"#2a3f5f\",\"gridcolor\":\"white\",\"linecolor\":\"white\",\"minorgridcolor\":\"white\",\"startlinecolor\":\"#2a3f5f\"},\"baxis\":{\"endlinecolor\":\"#2a3f5f\",\"gridcolor\":\"white\",\"linecolor\":\"white\",\"minorgridcolor\":\"white\",\"startlinecolor\":\"#2a3f5f\"},\"type\":\"carpet\"}],\"table\":[{\"cells\":{\"fill\":{\"color\":\"#EBF0F8\"},\"line\":{\"color\":\"white\"}},\"header\":{\"fill\":{\"color\":\"#C8D4E3\"},\"line\":{\"color\":\"white\"}},\"type\":\"table\"}],\"barpolar\":[{\"marker\":{\"line\":{\"color\":\"#E5ECF6\",\"width\":0.5},\"pattern\":{\"fillmode\":\"overlay\",\"size\":10,\"solidity\":0.2}},\"type\":\"barpolar\"}],\"pie\":[{\"automargin\":true,\"type\":\"pie\"}]},\"layout\":{\"autotypenumbers\":\"strict\",\"colorway\":[\"#636efa\",\"#EF553B\",\"#00cc96\",\"#ab63fa\",\"#FFA15A\",\"#19d3f3\",\"#FF6692\",\"#B6E880\",\"#FF97FF\",\"#FECB52\"],\"font\":{\"color\":\"#2a3f5f\"},\"hovermode\":\"closest\",\"hoverlabel\":{\"align\":\"left\"},\"paper_bgcolor\":\"white\",\"plot_bgcolor\":\"#E5ECF6\",\"polar\":{\"bgcolor\":\"#E5ECF6\",\"angularaxis\":{\"gridcolor\":\"white\",\"linecolor\":\"white\",\"ticks\":\"\"},\"radialaxis\":{\"gridcolor\":\"white\",\"linecolor\":\"white\",\"ticks\":\"\"}},\"ternary\":{\"bgcolor\":\"#E5ECF6\",\"aaxis\":{\"gridcolor\":\"white\",\"linecolor\":\"white\",\"ticks\":\"\"},\"baxis\":{\"gridcolor\":\"white\",\"linecolor\":\"white\",\"ticks\":\"\"},\"caxis\":{\"gridcolor\":\"white\",\"linecolor\":\"white\",\"ticks\":\"\"}},\"coloraxis\":{\"colorbar\":{\"outlinewidth\":0,\"ticks\":\"\"}},\"colorscale\":{\"sequential\":[[0.0,\"#0d0887\"],[0.1111111111111111,\"#46039f\"],[0.2222222222222222,\"#7201a8\"],[0.3333333333333333,\"#9c179e\"],[0.4444444444444444,\"#bd3786\"],[0.5555555555555556,\"#d8576b\"],[0.6666666666666666,\"#ed7953\"],[0.7777777777777778,\"#fb9f3a\"],[0.8888888888888888,\"#fdca26\"],[1.0,\"#f0f921\"]],\"sequentialminus\":[[0.0,\"#0d0887\"],[0.1111111111111111,\"#46039f\"],[0.2222222222222222,\"#7201a8\"],[0.3333333333333333,\"#9c179e\"],[0.4444444444444444,\"#bd3786\"],[0.5555555555555556,\"#d8576b\"],[0.6666666666666666,\"#ed7953\"],[0.7777777777777778,\"#fb9f3a\"],[0.8888888888888888,\"#fdca26\"],[1.0,\"#f0f921\"]],\"diverging\":[[0,\"#8e0152\"],[0.1,\"#c51b7d\"],[0.2,\"#de77ae\"],[0.3,\"#f1b6da\"],[0.4,\"#fde0ef\"],[0.5,\"#f7f7f7\"],[0.6,\"#e6f5d0\"],[0.7,\"#b8e186\"],[0.8,\"#7fbc41\"],[0.9,\"#4d9221\"],[1,\"#276419\"]]},\"xaxis\":{\"gridcolor\":\"white\",\"linecolor\":\"white\",\"ticks\":\"\",\"title\":{\"standoff\":15},\"zerolinecolor\":\"white\",\"automargin\":true,\"zerolinewidth\":2},\"yaxis\":{\"gridcolor\":\"white\",\"linecolor\":\"white\",\"ticks\":\"\",\"title\":{\"standoff\":15},\"zerolinecolor\":\"white\",\"automargin\":true,\"zerolinewidth\":2},\"scene\":{\"xaxis\":{\"backgroundcolor\":\"#E5ECF6\",\"gridcolor\":\"white\",\"linecolor\":\"white\",\"showbackground\":true,\"ticks\":\"\",\"zerolinecolor\":\"white\",\"gridwidth\":2},\"yaxis\":{\"backgroundcolor\":\"#E5ECF6\",\"gridcolor\":\"white\",\"linecolor\":\"white\",\"showbackground\":true,\"ticks\":\"\",\"zerolinecolor\":\"white\",\"gridwidth\":2},\"zaxis\":{\"backgroundcolor\":\"#E5ECF6\",\"gridcolor\":\"white\",\"linecolor\":\"white\",\"showbackground\":true,\"ticks\":\"\",\"zerolinecolor\":\"white\",\"gridwidth\":2}},\"shapedefaults\":{\"line\":{\"color\":\"#2a3f5f\"}},\"annotationdefaults\":{\"arrowcolor\":\"#2a3f5f\",\"arrowhead\":0,\"arrowwidth\":1},\"geo\":{\"bgcolor\":\"white\",\"landcolor\":\"#E5ECF6\",\"subunitcolor\":\"white\",\"showland\":true,\"showlakes\":true,\"lakecolor\":\"white\"},\"title\":{\"x\":0.05},\"mapbox\":{\"style\":\"light\"}}},\"xaxis\":{\"anchor\":\"y\",\"domain\":[0.0,1.0],\"title\":{\"text\":\"secs\"},\"type\":\"log\"},\"yaxis\":{\"anchor\":\"x\",\"domain\":[0.0,1.0],\"title\":{\"text\":\"top1\"}},\"legend\":{\"title\":{\"text\":\"family\"},\"tracegroupgap\":0,\"itemsizing\":\"constant\"},\"title\":{\"text\":\"Inference\"},\"height\":800,\"width\":1000},                        {\"responsive\": true}                    ).then(function(){\n",
       "                            \n",
       "var gd = document.getElementById('63469203-a085-4e4f-a4b7-6a5c94115153');\n",
       "var x = new MutationObserver(function (mutations, observer) {{\n",
       "        var display = window.getComputedStyle(gd).display;\n",
       "        if (!display || display === 'none') {{\n",
       "            console.log([gd, 'removed!']);\n",
       "            Plotly.purge(gd);\n",
       "            observer.disconnect();\n",
       "        }}\n",
       "}});\n",
       "\n",
       "// Listen for the removal of the full notebook cells\n",
       "var notebookContainer = gd.closest('#notebook-container');\n",
       "if (notebookContainer) {{\n",
       "    x.observe(notebookContainer, {childList: true});\n",
       "}}\n",
       "\n",
       "// Listen for the clearing of the current output cell\n",
       "var outputEl = gd.closest('.output');\n",
       "if (outputEl) {{\n",
       "    x.observe(outputEl, {childList: true});\n",
       "}}\n",
       "\n",
       "                        })                };                });            </script>        </div>"
      ]
     },
     "metadata": {},
     "output_type": "display_data"
    }
   ],
   "source": [
    "show_all(df, 'Inference', 'infer_img_size')"
   ]
  },
  {
   "cell_type": "markdown",
   "id": "4b9185ba",
   "metadata": {
    "papermill": {
     "duration": 0.007998,
     "end_time": "2023-04-11T16:43:29.493842",
     "exception": false,
     "start_time": "2023-04-11T16:43:29.485844",
     "status": "completed"
    },
    "tags": []
   },
   "source": [
    "That number of families can be a bit overwhelming, so I'll just pick a subset which represents a single key model from each of the families that are looking best in our plot. I've also separated convnext models into those which have been pretrained on the larger 22,000 category imagenet sample (`convnext_in22`) vs those that haven't (`convnext`). (Note that many of the best performing models were trained on the larger sample -- see the papers for details before coming to conclusions about the effectiveness of these architectures more generally.)"
   ]
  },
  {
   "cell_type": "code",
   "execution_count": 7,
   "id": "00c6fda3",
   "metadata": {
    "execution": {
     "iopub.execute_input": "2023-04-11T16:43:29.511911Z",
     "iopub.status.busy": "2023-04-11T16:43:29.511213Z",
     "iopub.status.idle": "2023-04-11T16:43:29.515891Z",
     "shell.execute_reply": "2023-04-11T16:43:29.514903Z"
    },
    "papermill": {
     "duration": 0.016268,
     "end_time": "2023-04-11T16:43:29.518114",
     "exception": false,
     "start_time": "2023-04-11T16:43:29.501846",
     "status": "completed"
    },
    "tags": []
   },
   "outputs": [],
   "source": [
    "subs = 'levit|resnetd?|regnetx|vgg|convnext.*|efficientnetv2|beit'"
   ]
  },
  {
   "cell_type": "markdown",
   "id": "5dea47c9",
   "metadata": {
    "papermill": {
     "duration": 0.007701,
     "end_time": "2023-04-11T16:43:29.533778",
     "exception": false,
     "start_time": "2023-04-11T16:43:29.526077",
     "status": "completed"
    },
    "tags": []
   },
   "source": [
    "In this chart, I'll add lines through the points of each family, to help see how they compare -- but note that we can see that a linear fit isn't actually ideal here! It's just there to help visually see the groups."
   ]
  },
  {
   "cell_type": "code",
   "execution_count": 8,
   "id": "2711ba65",
   "metadata": {
    "execution": {
     "iopub.execute_input": "2023-04-11T16:43:29.551564Z",
     "iopub.status.busy": "2023-04-11T16:43:29.551133Z",
     "iopub.status.idle": "2023-04-11T16:43:29.558142Z",
     "shell.execute_reply": "2023-04-11T16:43:29.556874Z"
    },
    "papermill": {
     "duration": 0.019029,
     "end_time": "2023-04-11T16:43:29.560667",
     "exception": false,
     "start_time": "2023-04-11T16:43:29.541638",
     "status": "completed"
    },
    "tags": []
   },
   "outputs": [],
   "source": [
    "def show_subs(df, title, size):\n",
    "    df_subs = df[df.family.str.fullmatch(subs)]\n",
    "    return px.scatter(df_subs, width=w, height=h, size=df_subs[size]**2, title=title,\n",
    "        trendline=\"ols\", trendline_options={'log_x':True},\n",
    "        x='secs',  y='top1', log_x=True, color='family', hover_name='model', hover_data=[size])"
   ]
  },
  {
   "cell_type": "code",
   "execution_count": 9,
   "id": "b0663b85",
   "metadata": {
    "execution": {
     "iopub.execute_input": "2023-04-11T16:43:29.578634Z",
     "iopub.status.busy": "2023-04-11T16:43:29.578233Z",
     "iopub.status.idle": "2023-04-11T16:43:32.040179Z",
     "shell.execute_reply": "2023-04-11T16:43:32.039122Z"
    },
    "papermill": {
     "duration": 2.474313,
     "end_time": "2023-04-11T16:43:32.042919",
     "exception": false,
     "start_time": "2023-04-11T16:43:29.568606",
     "status": "completed"
    },
    "tags": []
   },
   "outputs": [
    {
     "data": {
      "text/html": [
       "<div>                            <div id=\"f2e69af0-3b3a-4cff-b5fe-2f2cfde98ce6\" class=\"plotly-graph-div\" style=\"height:800px; width:1000px;\"></div>            <script type=\"text/javascript\">                require([\"plotly\"], function(Plotly) {                    window.PLOTLYENV=window.PLOTLYENV || {};                                    if (document.getElementById(\"f2e69af0-3b3a-4cff-b5fe-2f2cfde98ce6\")) {                    Plotly.newPlot(                        \"f2e69af0-3b3a-4cff-b5fe-2f2cfde98ce6\",                        [{\"customdata\":[[224],[224],[224],[224],[224]],\"hovertemplate\":\"<b>%{hovertext}</b><br><br>family=levit<br>secs=%{x}<br>top1=%{y}<br>size=%{marker.size}<br>infer_img_size=%{customdata[0]}<extra></extra>\",\"hovertext\":[\"levit_128s\",\"levit_128\",\"levit_192\",\"levit_256\",\"levit_384\"],\"legendgroup\":\"levit\",\"marker\":{\"color\":\"#636efa\",\"size\":[50176,50176,50176,50176,50176],\"sizemode\":\"area\",\"sizeref\":256.0,\"symbol\":\"circle\"},\"mode\":\"markers\",\"name\":\"levit\",\"orientation\":\"v\",\"showlegend\":true,\"x\":[0.00004654236751715086,0.00006822292249261998,0.00007756230968148262,0.00010599687945186893,0.00017720128293728847],\"xaxis\":\"x\",\"y\":[76.53,78.486,79.842,81.51,82.586],\"yaxis\":\"y\",\"type\":\"scatter\"},{\"hovertemplate\":\"<b>OLS trendline</b><br>top1 = 10.6933 * log10(secs) + 123.28<br>R<sup>2</sup>=0.940418<br><br>family=levit<br>secs=%{x}<br>top1=%{y} <b>(trend)</b><extra></extra>\",\"legendgroup\":\"levit\",\"marker\":{\"color\":\"#636efa\",\"symbol\":\"circle\"},\"mode\":\"lines\",\"name\":\"levit\",\"showlegend\":false,\"x\":[0.00004654236751715086,0.00006822292249261998,0.00007756230968148262,0.00010599687945186893,0.00017720128293728847],\"xaxis\":\"x\",\"y\":[76.95505389897176,78.73101445728798,79.32684872810371,80.77731101582307,83.1637718998135],\"yaxis\":\"y\",\"type\":\"scatter\"},{\"customdata\":[[224],[224],[224],[224],[224],[224],[224],[224],[224],[224],[224],[224]],\"hovertemplate\":\"<b>%{hovertext}</b><br><br>family=regnetx<br>secs=%{x}<br>top1=%{y}<br>size=%{marker.size}<br>infer_img_size=%{customdata[0]}<extra></extra>\",\"hovertext\":[\"regnetx_002\",\"regnetx_004\",\"regnetx_008\",\"regnetx_006\",\"regnetx_016\",\"regnetx_032\",\"regnetx_040\",\"regnetx_080\",\"regnetx_064\",\"regnetx_120\",\"regnetx_160\",\"regnetx_320\"],\"legendgroup\":\"regnetx\",\"marker\":{\"color\":\"#EF553B\",\"size\":[50176,50176,50176,50176,50176,50176,50176,50176,50176,50176,50176,50176],\"sizemode\":\"area\",\"sizeref\":256.0,\"symbol\":\"circle\"},\"mode\":\"markers\",\"name\":\"regnetx\",\"orientation\":\"v\",\"showlegend\":true,\"x\":[0.00005611048828469115,0.00006925193368711838,0.00011822399190402103,0.0001259786970023369,0.00026479614668647344,0.0006228278877415016,0.0006304057291272663,0.0007938902208602596,0.0008572212316554657,0.0012854296548621376,0.001604157977477622,0.0038134462113411888],\"xaxis\":\"x\",\"y\":[68.762,72.396,75.038,73.852,76.95,78.172,78.482,79.194,79.072,79.596,79.856,80.246],\"yaxis\":\"y\",\"type\":\"scatter\"},{\"hovertemplate\":\"<b>OLS trendline</b><br>top1 = 5.7249 * log10(secs) + 96.1191<br>R<sup>2</sup>=0.867822<br><br>family=regnetx<br>secs=%{x}<br>top1=%{y} <b>(trend)</b><extra></extra>\",\"legendgroup\":\"regnetx\",\"marker\":{\"color\":\"#EF553B\",\"symbol\":\"circle\"},\"mode\":\"lines\",\"name\":\"regnetx\",\"showlegend\":false,\"x\":[0.00005611048828469115,0.00006925193368711838,0.00011822399190402103,0.0001259786970023369,0.00026479614668647344,0.0006228278877415016,0.0006304057291272663,0.0007938902208602596,0.0008572212316554657,0.0012854296548621376,0.001604157977477622,0.0038134462113411888],\"xaxis\":\"x\",\"y\":[71.78282627602874,72.30601305097983,73.63575794881572,73.79371661660892,75.64065418469032,77.76720663827062,77.79727441669614,78.37056810295738,78.56139330082561,79.5687211845304,80.11945027052778,82.2724180090687],\"yaxis\":\"y\",\"type\":\"scatter\"},{\"customdata\":[[224],[224],[224],[256],[224],[256],[256],[224],[288],[288],[224]],\"hovertemplate\":\"<b>%{hovertext}</b><br><br>family=resnet<br>secs=%{x}<br>top1=%{y}<br>size=%{marker.size}<br>infer_img_size=%{customdata[0]}<extra></extra>\",\"hovertext\":[\"resnet18\",\"resnet34\",\"resnet26\",\"resnet26t\",\"resnet50\",\"resnet32ts\",\"resnet33ts\",\"resnet101\",\"resnet51q\",\"resnet61q\",\"resnet152\"],\"legendgroup\":\"resnet\",\"marker\":{\"color\":\"#00cc96\",\"size\":[50176,50176,50176,65536,50176,65536,65536,50176,82944,82944,50176],\"sizemode\":\"area\",\"sizeref\":256.0,\"symbol\":\"circle\"},\"mode\":\"markers\",\"name\":\"resnet\",\"orientation\":\"v\",\"showlegend\":true,\"x\":[0.00009236979323021786,0.00015969338869370808,0.00017561482751111642,0.0002638710409448694,0.00028338807446305045,0.00029286350217890445,0.00029674294938752255,0.00046063207933926936,0.000534896657965681,0.0005959830740806961,0.0006634335339114052],\"xaxis\":\"x\",\"y\":[69.748,75.11,75.292,77.882,80.374,79.004,79.214,81.938,82.36,82.524,82.822],\"yaxis\":\"y\",\"type\":\"scatter\"},{\"hovertemplate\":\"<b>OLS trendline</b><br>top1 = 14.9129 * log10(secs) + 131.333<br>R<sup>2</sup>=0.949595<br><br>family=resnet<br>secs=%{x}<br>top1=%{y} <b>(trend)</b><extra></extra>\",\"legendgroup\":\"resnet\",\"marker\":{\"color\":\"#00cc96\",\"symbol\":\"circle\"},\"mode\":\"lines\",\"name\":\"resnet\",\"showlegend\":false,\"x\":[0.00009236979323021786,0.00015969338869370808,0.00017561482751111642,0.0002638710409448694,0.00028338807446305045,0.00029286350217890445,0.00029674294938752255,0.00046063207933926936,0.000534896657965681,0.0005959830740806961,0.0006634335339114052],\"xaxis\":\"x\",\"y\":[71.16771525135091,74.71336237373774,75.32888127963858,77.96593851992479,78.42808707101463,78.64109825732616,78.72632785837938,81.57430163072338,82.54238339020753,83.24275369687105,83.9371506708254],\"yaxis\":\"y\",\"type\":\"scatter\"},{\"customdata\":[[224],[224],[224],[224],[320],[320],[320]],\"hovertemplate\":\"<b>%{hovertext}</b><br><br>family=resnetd<br>secs=%{x}<br>top1=%{y}<br>size=%{marker.size}<br>infer_img_size=%{customdata[0]}<extra></extra>\",\"hovertext\":[\"resnet18d\",\"resnet34d\",\"resnet26d\",\"resnet50d\",\"resnet101d\",\"resnet152d\",\"resnet200d\"],\"legendgroup\":\"resnetd\",\"marker\":{\"color\":\"#ab63fa\",\"size\":[50176,50176,50176,50176,102400,102400,102400],\"sizemode\":\"area\",\"sizeref\":256.0,\"symbol\":\"circle\"},\"mode\":\"markers\",\"name\":\"resnetd\",\"orientation\":\"v\",\"showlegend\":true,\"x\":[0.00011218547400045547,0.00017947263760167124,0.0002044542400742578,0.00031235065734195835,0.0010008807750820723,0.0014054023666975855,0.0019066503965832825],\"xaxis\":\"x\",\"y\":[72.26,77.116,76.696,80.53,83.022,83.68,83.962],\"yaxis\":\"y\",\"type\":\"scatter\"},{\"hovertemplate\":\"<b>OLS trendline</b><br>top1 = 8.5734 * log10(secs) + 108.345<br>R<sup>2</sup>=0.896708<br><br>family=resnetd<br>secs=%{x}<br>top1=%{y} <b>(trend)</b><extra></extra>\",\"legendgroup\":\"resnetd\",\"marker\":{\"color\":\"#ab63fa\",\"symbol\":\"circle\"},\"mode\":\"lines\",\"name\":\"resnetd\",\"showlegend\":false,\"x\":[0.00011218547400045547,0.00017947263760167124,0.0002044542400742578,0.00031235065734195835,0.0010008807750820723,0.0014054023666975855,0.0019066503965832825],\"xaxis\":\"x\",\"y\":[74.47999758518222,76.22949984889809,76.71473618766865,78.29263910735217,82.62855072207493,83.89242733865939,85.02814921016497],\"yaxis\":\"y\",\"type\":\"scatter\"},{\"customdata\":[[224],[224],[224],[224],[224],[224],[224]],\"hovertemplate\":\"<b>%{hovertext}</b><br><br>family=vgg<br>secs=%{x}<br>top1=%{y}<br>size=%{marker.size}<br>infer_img_size=%{customdata[0]}<extra></extra>\",\"hovertext\":[\"vgg11_bn\",\"vgg13\",\"vgg13_bn\",\"vgg16\",\"vgg19\",\"vgg16_bn\",\"vgg19_bn\"],\"legendgroup\":\"vgg\",\"marker\":{\"color\":\"#FFA15A\",\"size\":[50176,50176,50176,50176,50176,50176,50176],\"sizemode\":\"area\",\"sizeref\":256.0,\"symbol\":\"circle\"},\"mode\":\"markers\",\"name\":\"vgg\",\"orientation\":\"v\",\"showlegend\":true,\"x\":[0.0003856239395341663,0.000495051955702751,0.000609002271578473,0.00061273383454961,0.0007314379338341244,0.0007335465508641178,0.0008591212907438273],\"xaxis\":\"x\",\"y\":[70.36,69.926,71.594,71.594,72.368,73.35,74.214],\"yaxis\":\"y\",\"type\":\"scatter\"},{\"hovertemplate\":\"<b>OLS trendline</b><br>top1 = 11.8924 * log10(secs) + 110.113<br>R<sup>2</sup>=0.826696<br><br>family=vgg<br>secs=%{x}<br>top1=%{y} <b>(trend)</b><extra></extra>\",\"legendgroup\":\"vgg\",\"marker\":{\"color\":\"#FFA15A\",\"symbol\":\"circle\"},\"mode\":\"lines\",\"name\":\"vgg\",\"showlegend\":false,\"x\":[0.0003856239395341663,0.000495051955702751,0.000609002271578473,0.00061273383454961,0.0007314379338341244,0.0007335465508641178,0.0008591212907438273],\"xaxis\":\"x\",\"y\":[69.51419823403852,70.8043717391365,71.87431303369176,71.90586309950538,72.82045912671367,72.835327057731,73.65146770918446],\"yaxis\":\"y\",\"type\":\"scatter\"}],                        {\"template\":{\"data\":{\"histogram2dcontour\":[{\"type\":\"histogram2dcontour\",\"colorbar\":{\"outlinewidth\":0,\"ticks\":\"\"},\"colorscale\":[[0.0,\"#0d0887\"],[0.1111111111111111,\"#46039f\"],[0.2222222222222222,\"#7201a8\"],[0.3333333333333333,\"#9c179e\"],[0.4444444444444444,\"#bd3786\"],[0.5555555555555556,\"#d8576b\"],[0.6666666666666666,\"#ed7953\"],[0.7777777777777778,\"#fb9f3a\"],[0.8888888888888888,\"#fdca26\"],[1.0,\"#f0f921\"]]}],\"choropleth\":[{\"type\":\"choropleth\",\"colorbar\":{\"outlinewidth\":0,\"ticks\":\"\"}}],\"histogram2d\":[{\"type\":\"histogram2d\",\"colorbar\":{\"outlinewidth\":0,\"ticks\":\"\"},\"colorscale\":[[0.0,\"#0d0887\"],[0.1111111111111111,\"#46039f\"],[0.2222222222222222,\"#7201a8\"],[0.3333333333333333,\"#9c179e\"],[0.4444444444444444,\"#bd3786\"],[0.5555555555555556,\"#d8576b\"],[0.6666666666666666,\"#ed7953\"],[0.7777777777777778,\"#fb9f3a\"],[0.8888888888888888,\"#fdca26\"],[1.0,\"#f0f921\"]]}],\"heatmap\":[{\"type\":\"heatmap\",\"colorbar\":{\"outlinewidth\":0,\"ticks\":\"\"},\"colorscale\":[[0.0,\"#0d0887\"],[0.1111111111111111,\"#46039f\"],[0.2222222222222222,\"#7201a8\"],[0.3333333333333333,\"#9c179e\"],[0.4444444444444444,\"#bd3786\"],[0.5555555555555556,\"#d8576b\"],[0.6666666666666666,\"#ed7953\"],[0.7777777777777778,\"#fb9f3a\"],[0.8888888888888888,\"#fdca26\"],[1.0,\"#f0f921\"]]}],\"heatmapgl\":[{\"type\":\"heatmapgl\",\"colorbar\":{\"outlinewidth\":0,\"ticks\":\"\"},\"colorscale\":[[0.0,\"#0d0887\"],[0.1111111111111111,\"#46039f\"],[0.2222222222222222,\"#7201a8\"],[0.3333333333333333,\"#9c179e\"],[0.4444444444444444,\"#bd3786\"],[0.5555555555555556,\"#d8576b\"],[0.6666666666666666,\"#ed7953\"],[0.7777777777777778,\"#fb9f3a\"],[0.8888888888888888,\"#fdca26\"],[1.0,\"#f0f921\"]]}],\"contourcarpet\":[{\"type\":\"contourcarpet\",\"colorbar\":{\"outlinewidth\":0,\"ticks\":\"\"}}],\"contour\":[{\"type\":\"contour\",\"colorbar\":{\"outlinewidth\":0,\"ticks\":\"\"},\"colorscale\":[[0.0,\"#0d0887\"],[0.1111111111111111,\"#46039f\"],[0.2222222222222222,\"#7201a8\"],[0.3333333333333333,\"#9c179e\"],[0.4444444444444444,\"#bd3786\"],[0.5555555555555556,\"#d8576b\"],[0.6666666666666666,\"#ed7953\"],[0.7777777777777778,\"#fb9f3a\"],[0.8888888888888888,\"#fdca26\"],[1.0,\"#f0f921\"]]}],\"surface\":[{\"type\":\"surface\",\"colorbar\":{\"outlinewidth\":0,\"ticks\":\"\"},\"colorscale\":[[0.0,\"#0d0887\"],[0.1111111111111111,\"#46039f\"],[0.2222222222222222,\"#7201a8\"],[0.3333333333333333,\"#9c179e\"],[0.4444444444444444,\"#bd3786\"],[0.5555555555555556,\"#d8576b\"],[0.6666666666666666,\"#ed7953\"],[0.7777777777777778,\"#fb9f3a\"],[0.8888888888888888,\"#fdca26\"],[1.0,\"#f0f921\"]]}],\"mesh3d\":[{\"type\":\"mesh3d\",\"colorbar\":{\"outlinewidth\":0,\"ticks\":\"\"}}],\"scatter\":[{\"fillpattern\":{\"fillmode\":\"overlay\",\"size\":10,\"solidity\":0.2},\"type\":\"scatter\"}],\"parcoords\":[{\"type\":\"parcoords\",\"line\":{\"colorbar\":{\"outlinewidth\":0,\"ticks\":\"\"}}}],\"scatterpolargl\":[{\"type\":\"scatterpolargl\",\"marker\":{\"colorbar\":{\"outlinewidth\":0,\"ticks\":\"\"}}}],\"bar\":[{\"error_x\":{\"color\":\"#2a3f5f\"},\"error_y\":{\"color\":\"#2a3f5f\"},\"marker\":{\"line\":{\"color\":\"#E5ECF6\",\"width\":0.5},\"pattern\":{\"fillmode\":\"overlay\",\"size\":10,\"solidity\":0.2}},\"type\":\"bar\"}],\"scattergeo\":[{\"type\":\"scattergeo\",\"marker\":{\"colorbar\":{\"outlinewidth\":0,\"ticks\":\"\"}}}],\"scatterpolar\":[{\"type\":\"scatterpolar\",\"marker\":{\"colorbar\":{\"outlinewidth\":0,\"ticks\":\"\"}}}],\"histogram\":[{\"marker\":{\"pattern\":{\"fillmode\":\"overlay\",\"size\":10,\"solidity\":0.2}},\"type\":\"histogram\"}],\"scattergl\":[{\"type\":\"scattergl\",\"marker\":{\"colorbar\":{\"outlinewidth\":0,\"ticks\":\"\"}}}],\"scatter3d\":[{\"type\":\"scatter3d\",\"line\":{\"colorbar\":{\"outlinewidth\":0,\"ticks\":\"\"}},\"marker\":{\"colorbar\":{\"outlinewidth\":0,\"ticks\":\"\"}}}],\"scattermapbox\":[{\"type\":\"scattermapbox\",\"marker\":{\"colorbar\":{\"outlinewidth\":0,\"ticks\":\"\"}}}],\"scatterternary\":[{\"type\":\"scatterternary\",\"marker\":{\"colorbar\":{\"outlinewidth\":0,\"ticks\":\"\"}}}],\"scattercarpet\":[{\"type\":\"scattercarpet\",\"marker\":{\"colorbar\":{\"outlinewidth\":0,\"ticks\":\"\"}}}],\"carpet\":[{\"aaxis\":{\"endlinecolor\":\"#2a3f5f\",\"gridcolor\":\"white\",\"linecolor\":\"white\",\"minorgridcolor\":\"white\",\"startlinecolor\":\"#2a3f5f\"},\"baxis\":{\"endlinecolor\":\"#2a3f5f\",\"gridcolor\":\"white\",\"linecolor\":\"white\",\"minorgridcolor\":\"white\",\"startlinecolor\":\"#2a3f5f\"},\"type\":\"carpet\"}],\"table\":[{\"cells\":{\"fill\":{\"color\":\"#EBF0F8\"},\"line\":{\"color\":\"white\"}},\"header\":{\"fill\":{\"color\":\"#C8D4E3\"},\"line\":{\"color\":\"white\"}},\"type\":\"table\"}],\"barpolar\":[{\"marker\":{\"line\":{\"color\":\"#E5ECF6\",\"width\":0.5},\"pattern\":{\"fillmode\":\"overlay\",\"size\":10,\"solidity\":0.2}},\"type\":\"barpolar\"}],\"pie\":[{\"automargin\":true,\"type\":\"pie\"}]},\"layout\":{\"autotypenumbers\":\"strict\",\"colorway\":[\"#636efa\",\"#EF553B\",\"#00cc96\",\"#ab63fa\",\"#FFA15A\",\"#19d3f3\",\"#FF6692\",\"#B6E880\",\"#FF97FF\",\"#FECB52\"],\"font\":{\"color\":\"#2a3f5f\"},\"hovermode\":\"closest\",\"hoverlabel\":{\"align\":\"left\"},\"paper_bgcolor\":\"white\",\"plot_bgcolor\":\"#E5ECF6\",\"polar\":{\"bgcolor\":\"#E5ECF6\",\"angularaxis\":{\"gridcolor\":\"white\",\"linecolor\":\"white\",\"ticks\":\"\"},\"radialaxis\":{\"gridcolor\":\"white\",\"linecolor\":\"white\",\"ticks\":\"\"}},\"ternary\":{\"bgcolor\":\"#E5ECF6\",\"aaxis\":{\"gridcolor\":\"white\",\"linecolor\":\"white\",\"ticks\":\"\"},\"baxis\":{\"gridcolor\":\"white\",\"linecolor\":\"white\",\"ticks\":\"\"},\"caxis\":{\"gridcolor\":\"white\",\"linecolor\":\"white\",\"ticks\":\"\"}},\"coloraxis\":{\"colorbar\":{\"outlinewidth\":0,\"ticks\":\"\"}},\"colorscale\":{\"sequential\":[[0.0,\"#0d0887\"],[0.1111111111111111,\"#46039f\"],[0.2222222222222222,\"#7201a8\"],[0.3333333333333333,\"#9c179e\"],[0.4444444444444444,\"#bd3786\"],[0.5555555555555556,\"#d8576b\"],[0.6666666666666666,\"#ed7953\"],[0.7777777777777778,\"#fb9f3a\"],[0.8888888888888888,\"#fdca26\"],[1.0,\"#f0f921\"]],\"sequentialminus\":[[0.0,\"#0d0887\"],[0.1111111111111111,\"#46039f\"],[0.2222222222222222,\"#7201a8\"],[0.3333333333333333,\"#9c179e\"],[0.4444444444444444,\"#bd3786\"],[0.5555555555555556,\"#d8576b\"],[0.6666666666666666,\"#ed7953\"],[0.7777777777777778,\"#fb9f3a\"],[0.8888888888888888,\"#fdca26\"],[1.0,\"#f0f921\"]],\"diverging\":[[0,\"#8e0152\"],[0.1,\"#c51b7d\"],[0.2,\"#de77ae\"],[0.3,\"#f1b6da\"],[0.4,\"#fde0ef\"],[0.5,\"#f7f7f7\"],[0.6,\"#e6f5d0\"],[0.7,\"#b8e186\"],[0.8,\"#7fbc41\"],[0.9,\"#4d9221\"],[1,\"#276419\"]]},\"xaxis\":{\"gridcolor\":\"white\",\"linecolor\":\"white\",\"ticks\":\"\",\"title\":{\"standoff\":15},\"zerolinecolor\":\"white\",\"automargin\":true,\"zerolinewidth\":2},\"yaxis\":{\"gridcolor\":\"white\",\"linecolor\":\"white\",\"ticks\":\"\",\"title\":{\"standoff\":15},\"zerolinecolor\":\"white\",\"automargin\":true,\"zerolinewidth\":2},\"scene\":{\"xaxis\":{\"backgroundcolor\":\"#E5ECF6\",\"gridcolor\":\"white\",\"linecolor\":\"white\",\"showbackground\":true,\"ticks\":\"\",\"zerolinecolor\":\"white\",\"gridwidth\":2},\"yaxis\":{\"backgroundcolor\":\"#E5ECF6\",\"gridcolor\":\"white\",\"linecolor\":\"white\",\"showbackground\":true,\"ticks\":\"\",\"zerolinecolor\":\"white\",\"gridwidth\":2},\"zaxis\":{\"backgroundcolor\":\"#E5ECF6\",\"gridcolor\":\"white\",\"linecolor\":\"white\",\"showbackground\":true,\"ticks\":\"\",\"zerolinecolor\":\"white\",\"gridwidth\":2}},\"shapedefaults\":{\"line\":{\"color\":\"#2a3f5f\"}},\"annotationdefaults\":{\"arrowcolor\":\"#2a3f5f\",\"arrowhead\":0,\"arrowwidth\":1},\"geo\":{\"bgcolor\":\"white\",\"landcolor\":\"#E5ECF6\",\"subunitcolor\":\"white\",\"showland\":true,\"showlakes\":true,\"lakecolor\":\"white\"},\"title\":{\"x\":0.05},\"mapbox\":{\"style\":\"light\"}}},\"xaxis\":{\"anchor\":\"y\",\"domain\":[0.0,1.0],\"title\":{\"text\":\"secs\"},\"type\":\"log\"},\"yaxis\":{\"anchor\":\"x\",\"domain\":[0.0,1.0],\"title\":{\"text\":\"top1\"}},\"legend\":{\"title\":{\"text\":\"family\"},\"tracegroupgap\":0,\"itemsizing\":\"constant\"},\"title\":{\"text\":\"Inference\"},\"height\":800,\"width\":1000},                        {\"responsive\": true}                    ).then(function(){\n",
       "                            \n",
       "var gd = document.getElementById('f2e69af0-3b3a-4cff-b5fe-2f2cfde98ce6');\n",
       "var x = new MutationObserver(function (mutations, observer) {{\n",
       "        var display = window.getComputedStyle(gd).display;\n",
       "        if (!display || display === 'none') {{\n",
       "            console.log([gd, 'removed!']);\n",
       "            Plotly.purge(gd);\n",
       "            observer.disconnect();\n",
       "        }}\n",
       "}});\n",
       "\n",
       "// Listen for the removal of the full notebook cells\n",
       "var notebookContainer = gd.closest('#notebook-container');\n",
       "if (notebookContainer) {{\n",
       "    x.observe(notebookContainer, {childList: true});\n",
       "}}\n",
       "\n",
       "// Listen for the clearing of the current output cell\n",
       "var outputEl = gd.closest('.output');\n",
       "if (outputEl) {{\n",
       "    x.observe(outputEl, {childList: true});\n",
       "}}\n",
       "\n",
       "                        })                };                });            </script>        </div>"
      ]
     },
     "metadata": {},
     "output_type": "display_data"
    }
   ],
   "source": [
    "show_subs(df, 'Inference', 'infer_img_size')"
   ]
  },
  {
   "cell_type": "markdown",
   "id": "cf85aff1",
   "metadata": {
    "papermill": {
     "duration": 0.008055,
     "end_time": "2023-04-11T16:43:32.059412",
     "exception": false,
     "start_time": "2023-04-11T16:43:32.051357",
     "status": "completed"
    },
    "tags": []
   },
   "source": [
    "From this, we can see that the *levit* family models are extremely fast for image recognition, and clearly the most accurate amongst the faster models. That's not surprising, since these models are a hybrid of the best ideas from CNNs and transformers, so get the benefit of each. In fact, we see a similar thing even in the middle category of speeds -- the best is the ConvNeXt, which is a pure CNN, but which takes advantage of ideas from the transformers literature.\n",
    "\n",
    "For the slowest models, *beit* is the most accurate -- although we need to be a bit careful of interpreting this, since it's trained on a larger dataset (ImageNet-21k, which is also used for *vit* models).\n",
    "\n",
    "I'll add one other plot here, which is of speed vs parameter count. Often, parameter count is used in papers as a proxy for speed. However, as we see, there is a wide variation in speeds at each level of parameter count, so it's really not a useful proxy.\n",
    "\n",
    "(Parameter count may be be useful for identifying how much memory a model needs, but even for that it's not always a great proxy.)"
   ]
  },
  {
   "cell_type": "code",
   "execution_count": 10,
   "id": "e228a4ae",
   "metadata": {
    "execution": {
     "iopub.execute_input": "2023-04-11T16:43:32.078145Z",
     "iopub.status.busy": "2023-04-11T16:43:32.077682Z",
     "iopub.status.idle": "2023-04-11T16:43:32.182617Z",
     "shell.execute_reply": "2023-04-11T16:43:32.181300Z"
    },
    "papermill": {
     "duration": 0.117912,
     "end_time": "2023-04-11T16:43:32.185658",
     "exception": false,
     "start_time": "2023-04-11T16:43:32.067746",
     "status": "completed"
    },
    "tags": []
   },
   "outputs": [
    {
     "data": {
      "text/html": [
       "<div>                            <div id=\"961760fe-3db7-40d8-9af9-bfe964838b17\" class=\"plotly-graph-div\" style=\"height:800px; width:1000px;\"></div>            <script type=\"text/javascript\">                require([\"plotly\"], function(Plotly) {                    window.PLOTLYENV=window.PLOTLYENV || {};                                    if (document.getElementById(\"961760fe-3db7-40d8-9af9-bfe964838b17\")) {                    Plotly.newPlot(                        \"961760fe-3db7-40d8-9af9-bfe964838b17\",                        [{\"customdata\":[[21485.8,\"levit\"],[17821.98,\"regnetx\"],[16673.08,\"regnety\"],[14657.83,\"levit\"],[14440.03,\"regnetx\"],[12892.86,\"levit\"],[10826.05,\"resnet\"],[9982.58,\"regnety\"],[9552.58,\"regnety\"],[9434.24,\"levit\"],[8913.81,\"resnetd\"],[8458.52,\"regnetx\"],[7937.85,\"regnetx\"],[7871.11,\"regnety\"],[6262.0,\"resnet\"],[5694.28,\"resnet\"],[5643.3,\"levit\"],[5571.88,\"resnetd\"],[5125.56,\"mobilevit\"],[5049.08,\"repvgg\"],[4891.07,\"resnetd\"],[3868.66,\"repvgg\"],[3854.54,\"crossvit\"],[3789.73,\"resnet\"],[3776.49,\"regnetx\"],[3703.17,\"resnetv2\"],[3640.93,\"crossvit\"],[3562.28,\"crossvit\"],[3528.73,\"resnet\"],[3414.56,\"resnet\"],[3408.85,\"regnety\"],[3369.92,\"resnet\"],[3201.53,\"resnetd\"],[3182.1,\"convit\"],[3098.23,\"mobilevit\"],[2844.33,\"resnetrs\"],[2715.55,\"regnetz\"],[2619.08,\"resnetblur\"],[2593.2,\"vgg\"],[2415.06,\"mobilevit\"],[2235.55,\"resnetv2\"],[2170.93,\"resnet\"],[2019.99,\"vgg\"],[1936.11,\"repvgg\"],[1869.52,\"resnet\"],[1844.12,\"crossvit\"],[1772.58,\"regnetz\"],[1700.36,\"crossvit\"],[1677.9,\"resnet\"],[1651.71,\"crossvit\"],[1642.03,\"vgg\"],[1632.03,\"vgg\"],[1614.79,\"repvgg\"],[1605.58,\"regnetx\"],[1586.28,\"regnetx\"],[1562.05,\"resnetv2d\"],[1507.31,\"resnet\"],[1368.52,\"convit\"],[1367.75,\"regnety\"],[1367.17,\"vgg\"],[1363.24,\"vgg\"],[1259.62,\"regnetx\"],[1243.81,\"repvgg\"],[1205.55,\"crossvit\"],[1172.17,\"crossvit\"],[1166.56,\"regnetx\"],[1163.98,\"vgg\"],[1143.01,\"regnetz\"],[1095.82,\"resnetrs\"],[1039.59,\"regnetz\"],[1034.17,\"regnetz\"],[1009.91,\"regnetz\"],[1001.81,\"repvgg\"],[999.12,\"resnetd\"],[849.33,\"regnety\"],[849.16,\"regnetv\"],[834.99,\"resnetv2d\"],[812.87,\"repvgg\"],[777.95,\"regnetx\"],[754.35,\"regnety\"],[747.2,\"crossvit\"],[711.54,\"resnetd\"],[687.54,\"convit\"],[644.06,\"repvgg\"],[628.07,\"resnetrs\"],[623.38,\"regnetx\"],[607.41,\"regnetz\"],[598.38,\"regnetz\"],[536.38,\"regnety\"],[524.48,\"resnetd\"],[471.86,\"regnety\"],[468.27,\"regnetv\"],[456.26,\"resnetrs\"],[415.34,\"regnety\"],[414.45,\"regnety\"],[387.65,\"regnetz\"],[354.15,\"crossvit\"],[287.51,\"resnetrs\"],[280.03,\"resnetv2\"],[262.23,\"regnetx\"],[259.11,\"crossvit\"],[188.78,\"resnetrs\"],[134.22,\"resnetrs\"],[96.99,\"resnetv2\"],[92.92,\"resnetv2\"],[70.34,\"resnetv2\"],[57.82,\"resnetv2\"],[18.31,\"resnetv2\"]],\"hovertemplate\":\"<b>%{hovertext}</b><br><br>param_count_x=%{x}<br>secs=%{y}<br>infer_samples_per_sec=%{customdata[0]}<br>family=%{customdata[1]}<br>infer_img_size=%{marker.color}<extra></extra>\",\"hovertext\":[\"levit_128s\",\"regnetx_002\",\"regnety_002\",\"levit_128\",\"regnetx_004\",\"levit_192\",\"resnet18\",\"regnety_006\",\"regnety_004\",\"levit_256\",\"resnet18d\",\"regnetx_008\",\"regnetx_006\",\"regnety_008\",\"resnet34\",\"resnet26\",\"levit_384\",\"resnet34d\",\"mobilevit_xxs\",\"repvgg_b0\",\"resnet26d\",\"repvgg_a2\",\"crossvit_tiny_240\",\"resnet26t\",\"regnetx_016\",\"resnetv2_50\",\"crossvit_9_240\",\"crossvit_9_dagger_240\",\"resnet50\",\"resnet32ts\",\"regnety_016\",\"resnet33ts\",\"resnet50d\",\"convit_tiny\",\"mobilevit_xs\",\"resnetrs50\",\"regnetz_b16\",\"resnetblur50\",\"vgg11_bn\",\"mobilevit_s\",\"resnetv2_101\",\"resnet101\",\"vgg13\",\"repvgg_b1\",\"resnet51q\",\"crossvit_small_240\",\"regnetz_c16\",\"crossvit_15_240\",\"resnet61q\",\"crossvit_15_dagger_240\",\"vgg13_bn\",\"vgg16\",\"repvgg_b1g4\",\"regnetx_032\",\"regnetx_040\",\"resnetv2_50x1_bit_distilled\",\"resnet152\",\"convit_small\",\"regnety_032\",\"vgg19\",\"vgg16_bn\",\"regnetx_080\",\"repvgg_b2\",\"crossvit_18_240\",\"crossvit_18_dagger_240\",\"regnetx_064\",\"vgg19_bn\",\"regnetz_d8\",\"resnetrs101\",\"regnetz_040\",\"regnetz_040h\",\"regnetz_d32\",\"repvgg_b3\",\"resnet101d\",\"regnety_040\",\"regnetv_040\",\"resnetv2_50d_evos\",\"repvgg_b2g4\",\"regnetx_120\",\"regnety_120\",\"crossvit_base_240\",\"resnet152d\",\"convit_base\",\"repvgg_b3g4\",\"resnetrs152\",\"regnetx_160\",\"regnetz_e8\",\"regnetz_c16_evos\",\"regnety_080\",\"resnet200d\",\"regnety_064\",\"regnetv_064\",\"resnetrs200\",\"regnety_320\",\"regnety_160\",\"regnetz_d8_evos\",\"crossvit_15_dagger_408\",\"resnetrs270\",\"resnetv2_152x2_bit_teacher\",\"regnetx_320\",\"crossvit_18_dagger_408\",\"resnetrs350\",\"resnetrs420\",\"resnetv2_152x2_bit_teacher_384\",\"resnetv2_50x3_bitm\",\"resnetv2_152x2_bitm\",\"resnetv2_101x3_bitm\",\"resnetv2_152x4_bitm\"],\"legendgroup\":\"\",\"marker\":{\"color\":[224,224,224,224,224,224,224,224,224,224,224,224,224,224,224,224,224,224,256,224,224,224,240,256,224,224,240,240,224,256,224,256,224,224,256,224,288,224,224,256,224,224,224,224,288,240,320,240,288,240,224,224,224,224,224,224,224,224,288,224,224,224,224,240,240,224,224,320,288,320,320,320,224,320,288,288,288,224,224,224,240,320,224,224,320,224,320,320,288,320,288,288,320,224,288,320,408,352,224,224,408,384,416,384,448,448,448,480],\"coloraxis\":\"coloraxis\",\"symbol\":\"circle\"},\"mode\":\"markers\",\"name\":\"\",\"orientation\":\"v\",\"showlegend\":false,\"x\":[7.78,2.68,3.16,9.21,5.16,10.95,11.69,6.06,4.34,18.89,11.71,7.26,6.2,6.26,21.8,16.0,39.13,21.82,1.27,15.82,16.01,28.21,7.01,16.01,9.19,25.55,8.55,8.78,25.56,17.96,11.2,19.68,25.58,5.71,2.32,35.69,9.72,25.56,132.87,5.58,44.54,44.55,133.05,57.42,35.7,26.86,13.46,27.53,36.85,28.21,133.05,138.36,39.97,15.3,22.12,25.55,60.19,27.78,19.44,143.67,138.37,39.57,89.02,43.27,44.27,26.21,143.68,23.37,63.62,27.12,28.94,27.58,123.09,44.57,20.65,20.64,25.59,61.76,46.11,51.82,105.03,60.21,86.54,83.83,86.62,54.28,57.7,13.49,39.18,64.69,30.58,30.58,93.21,145.05,83.59,23.46,28.5,129.86,236.34,107.81,44.61,163.96,191.89,236.34,217.32,236.34,387.93,936.53],\"xaxis\":\"x\",\"y\":[0.00004654236751715086,0.00005611048828469115,0.000059976920880845045,0.00006822292249261998,0.00006925193368711838,0.00007756230968148262,0.00009236979323021786,0.00010017450398594352,0.00010468376082691796,0.00010599687945186893,0.00011218547400045547,0.00011822399190402103,0.0001259786970023369,0.00012704688411164372,0.00015969338869370808,0.00017561482751111642,0.00017720128293728847,0.00017947263760167124,0.00019510063290645313,0.00019805588344807372,0.0002044542400742578,0.00025848743492578826,0.00025943432938820195,0.0002638710409448694,0.00026479614668647344,0.00027003891260730673,0.0002746551018558445,0.0002807190900209978,0.00028338807446305045,0.00029286350217890445,0.00029335406368716726,0.00029674294938752255,0.00031235065734195835,0.0003142578800163414,0.00032276493352656195,0.000351576645466595,0.00036824952587873543,0.00038181346121538863,0.0003856239395341663,0.0004140683875348853,0.0004473172150030194,0.00046063207933926936,0.000495051955702751,0.0005164995790528431,0.000534896657965681,0.0005422640609070993,0.0005641494319015222,0.0005881107530170082,0.0005959830740806961,0.0006054331571522846,0.000609002271578473,0.00061273383454961,0.0006192755714365336,0.0006228278877415016,0.0006304057291272663,0.0006401843730994526,0.0006634335339114052,0.0007307163943530237,0.0007311277645768598,0.0007314379338341244,0.0007335465508641178,0.0007938902208602596,0.0008039813154742284,0.0008294969101240098,0.0008531185749507324,0.0008572212316554657,0.0008591212907438273,0.0008748829844008363,0.0009125586318920991,0.000961917679085024,0.0009669590106075403,0.0009901872444079175,0.0009981932701809725,0.0010008807750820723,0.0011773986554107355,0.0011776343680813981,0.0011976191331632715,0.0012302090125112257,0.0012854296548621376,0.0013256445946841651,0.0013383297644539614,0.0014054023666975855,0.0014544608313698112,0.0015526503741887404,0.0015921792156925183,0.001604157977477622,0.0016463344363774057,0.00167117884956048,0.0018643499011894553,0.0019066503965832825,0.0021192726656211586,0.0021355201059217975,0.0021917327839389824,0.002407666008571291,0.0024128362890577875,0.002579646588417387,0.002823662289990117,0.0034781398907864076,0.0035710459593614975,0.0038134462113411888,0.0038593647485623862,0.005297171310520182,0.007450454477723141,0.010310341272296113,0.01076194575979337,0.014216661927779357,0.017295053614666205,0.05461496450027308],\"yaxis\":\"y\",\"type\":\"scatter\"}],                        {\"template\":{\"data\":{\"histogram2dcontour\":[{\"type\":\"histogram2dcontour\",\"colorbar\":{\"outlinewidth\":0,\"ticks\":\"\"},\"colorscale\":[[0.0,\"#0d0887\"],[0.1111111111111111,\"#46039f\"],[0.2222222222222222,\"#7201a8\"],[0.3333333333333333,\"#9c179e\"],[0.4444444444444444,\"#bd3786\"],[0.5555555555555556,\"#d8576b\"],[0.6666666666666666,\"#ed7953\"],[0.7777777777777778,\"#fb9f3a\"],[0.8888888888888888,\"#fdca26\"],[1.0,\"#f0f921\"]]}],\"choropleth\":[{\"type\":\"choropleth\",\"colorbar\":{\"outlinewidth\":0,\"ticks\":\"\"}}],\"histogram2d\":[{\"type\":\"histogram2d\",\"colorbar\":{\"outlinewidth\":0,\"ticks\":\"\"},\"colorscale\":[[0.0,\"#0d0887\"],[0.1111111111111111,\"#46039f\"],[0.2222222222222222,\"#7201a8\"],[0.3333333333333333,\"#9c179e\"],[0.4444444444444444,\"#bd3786\"],[0.5555555555555556,\"#d8576b\"],[0.6666666666666666,\"#ed7953\"],[0.7777777777777778,\"#fb9f3a\"],[0.8888888888888888,\"#fdca26\"],[1.0,\"#f0f921\"]]}],\"heatmap\":[{\"type\":\"heatmap\",\"colorbar\":{\"outlinewidth\":0,\"ticks\":\"\"},\"colorscale\":[[0.0,\"#0d0887\"],[0.1111111111111111,\"#46039f\"],[0.2222222222222222,\"#7201a8\"],[0.3333333333333333,\"#9c179e\"],[0.4444444444444444,\"#bd3786\"],[0.5555555555555556,\"#d8576b\"],[0.6666666666666666,\"#ed7953\"],[0.7777777777777778,\"#fb9f3a\"],[0.8888888888888888,\"#fdca26\"],[1.0,\"#f0f921\"]]}],\"heatmapgl\":[{\"type\":\"heatmapgl\",\"colorbar\":{\"outlinewidth\":0,\"ticks\":\"\"},\"colorscale\":[[0.0,\"#0d0887\"],[0.1111111111111111,\"#46039f\"],[0.2222222222222222,\"#7201a8\"],[0.3333333333333333,\"#9c179e\"],[0.4444444444444444,\"#bd3786\"],[0.5555555555555556,\"#d8576b\"],[0.6666666666666666,\"#ed7953\"],[0.7777777777777778,\"#fb9f3a\"],[0.8888888888888888,\"#fdca26\"],[1.0,\"#f0f921\"]]}],\"contourcarpet\":[{\"type\":\"contourcarpet\",\"colorbar\":{\"outlinewidth\":0,\"ticks\":\"\"}}],\"contour\":[{\"type\":\"contour\",\"colorbar\":{\"outlinewidth\":0,\"ticks\":\"\"},\"colorscale\":[[0.0,\"#0d0887\"],[0.1111111111111111,\"#46039f\"],[0.2222222222222222,\"#7201a8\"],[0.3333333333333333,\"#9c179e\"],[0.4444444444444444,\"#bd3786\"],[0.5555555555555556,\"#d8576b\"],[0.6666666666666666,\"#ed7953\"],[0.7777777777777778,\"#fb9f3a\"],[0.8888888888888888,\"#fdca26\"],[1.0,\"#f0f921\"]]}],\"surface\":[{\"type\":\"surface\",\"colorbar\":{\"outlinewidth\":0,\"ticks\":\"\"},\"colorscale\":[[0.0,\"#0d0887\"],[0.1111111111111111,\"#46039f\"],[0.2222222222222222,\"#7201a8\"],[0.3333333333333333,\"#9c179e\"],[0.4444444444444444,\"#bd3786\"],[0.5555555555555556,\"#d8576b\"],[0.6666666666666666,\"#ed7953\"],[0.7777777777777778,\"#fb9f3a\"],[0.8888888888888888,\"#fdca26\"],[1.0,\"#f0f921\"]]}],\"mesh3d\":[{\"type\":\"mesh3d\",\"colorbar\":{\"outlinewidth\":0,\"ticks\":\"\"}}],\"scatter\":[{\"fillpattern\":{\"fillmode\":\"overlay\",\"size\":10,\"solidity\":0.2},\"type\":\"scatter\"}],\"parcoords\":[{\"type\":\"parcoords\",\"line\":{\"colorbar\":{\"outlinewidth\":0,\"ticks\":\"\"}}}],\"scatterpolargl\":[{\"type\":\"scatterpolargl\",\"marker\":{\"colorbar\":{\"outlinewidth\":0,\"ticks\":\"\"}}}],\"bar\":[{\"error_x\":{\"color\":\"#2a3f5f\"},\"error_y\":{\"color\":\"#2a3f5f\"},\"marker\":{\"line\":{\"color\":\"#E5ECF6\",\"width\":0.5},\"pattern\":{\"fillmode\":\"overlay\",\"size\":10,\"solidity\":0.2}},\"type\":\"bar\"}],\"scattergeo\":[{\"type\":\"scattergeo\",\"marker\":{\"colorbar\":{\"outlinewidth\":0,\"ticks\":\"\"}}}],\"scatterpolar\":[{\"type\":\"scatterpolar\",\"marker\":{\"colorbar\":{\"outlinewidth\":0,\"ticks\":\"\"}}}],\"histogram\":[{\"marker\":{\"pattern\":{\"fillmode\":\"overlay\",\"size\":10,\"solidity\":0.2}},\"type\":\"histogram\"}],\"scattergl\":[{\"type\":\"scattergl\",\"marker\":{\"colorbar\":{\"outlinewidth\":0,\"ticks\":\"\"}}}],\"scatter3d\":[{\"type\":\"scatter3d\",\"line\":{\"colorbar\":{\"outlinewidth\":0,\"ticks\":\"\"}},\"marker\":{\"colorbar\":{\"outlinewidth\":0,\"ticks\":\"\"}}}],\"scattermapbox\":[{\"type\":\"scattermapbox\",\"marker\":{\"colorbar\":{\"outlinewidth\":0,\"ticks\":\"\"}}}],\"scatterternary\":[{\"type\":\"scatterternary\",\"marker\":{\"colorbar\":{\"outlinewidth\":0,\"ticks\":\"\"}}}],\"scattercarpet\":[{\"type\":\"scattercarpet\",\"marker\":{\"colorbar\":{\"outlinewidth\":0,\"ticks\":\"\"}}}],\"carpet\":[{\"aaxis\":{\"endlinecolor\":\"#2a3f5f\",\"gridcolor\":\"white\",\"linecolor\":\"white\",\"minorgridcolor\":\"white\",\"startlinecolor\":\"#2a3f5f\"},\"baxis\":{\"endlinecolor\":\"#2a3f5f\",\"gridcolor\":\"white\",\"linecolor\":\"white\",\"minorgridcolor\":\"white\",\"startlinecolor\":\"#2a3f5f\"},\"type\":\"carpet\"}],\"table\":[{\"cells\":{\"fill\":{\"color\":\"#EBF0F8\"},\"line\":{\"color\":\"white\"}},\"header\":{\"fill\":{\"color\":\"#C8D4E3\"},\"line\":{\"color\":\"white\"}},\"type\":\"table\"}],\"barpolar\":[{\"marker\":{\"line\":{\"color\":\"#E5ECF6\",\"width\":0.5},\"pattern\":{\"fillmode\":\"overlay\",\"size\":10,\"solidity\":0.2}},\"type\":\"barpolar\"}],\"pie\":[{\"automargin\":true,\"type\":\"pie\"}]},\"layout\":{\"autotypenumbers\":\"strict\",\"colorway\":[\"#636efa\",\"#EF553B\",\"#00cc96\",\"#ab63fa\",\"#FFA15A\",\"#19d3f3\",\"#FF6692\",\"#B6E880\",\"#FF97FF\",\"#FECB52\"],\"font\":{\"color\":\"#2a3f5f\"},\"hovermode\":\"closest\",\"hoverlabel\":{\"align\":\"left\"},\"paper_bgcolor\":\"white\",\"plot_bgcolor\":\"#E5ECF6\",\"polar\":{\"bgcolor\":\"#E5ECF6\",\"angularaxis\":{\"gridcolor\":\"white\",\"linecolor\":\"white\",\"ticks\":\"\"},\"radialaxis\":{\"gridcolor\":\"white\",\"linecolor\":\"white\",\"ticks\":\"\"}},\"ternary\":{\"bgcolor\":\"#E5ECF6\",\"aaxis\":{\"gridcolor\":\"white\",\"linecolor\":\"white\",\"ticks\":\"\"},\"baxis\":{\"gridcolor\":\"white\",\"linecolor\":\"white\",\"ticks\":\"\"},\"caxis\":{\"gridcolor\":\"white\",\"linecolor\":\"white\",\"ticks\":\"\"}},\"coloraxis\":{\"colorbar\":{\"outlinewidth\":0,\"ticks\":\"\"}},\"colorscale\":{\"sequential\":[[0.0,\"#0d0887\"],[0.1111111111111111,\"#46039f\"],[0.2222222222222222,\"#7201a8\"],[0.3333333333333333,\"#9c179e\"],[0.4444444444444444,\"#bd3786\"],[0.5555555555555556,\"#d8576b\"],[0.6666666666666666,\"#ed7953\"],[0.7777777777777778,\"#fb9f3a\"],[0.8888888888888888,\"#fdca26\"],[1.0,\"#f0f921\"]],\"sequentialminus\":[[0.0,\"#0d0887\"],[0.1111111111111111,\"#46039f\"],[0.2222222222222222,\"#7201a8\"],[0.3333333333333333,\"#9c179e\"],[0.4444444444444444,\"#bd3786\"],[0.5555555555555556,\"#d8576b\"],[0.6666666666666666,\"#ed7953\"],[0.7777777777777778,\"#fb9f3a\"],[0.8888888888888888,\"#fdca26\"],[1.0,\"#f0f921\"]],\"diverging\":[[0,\"#8e0152\"],[0.1,\"#c51b7d\"],[0.2,\"#de77ae\"],[0.3,\"#f1b6da\"],[0.4,\"#fde0ef\"],[0.5,\"#f7f7f7\"],[0.6,\"#e6f5d0\"],[0.7,\"#b8e186\"],[0.8,\"#7fbc41\"],[0.9,\"#4d9221\"],[1,\"#276419\"]]},\"xaxis\":{\"gridcolor\":\"white\",\"linecolor\":\"white\",\"ticks\":\"\",\"title\":{\"standoff\":15},\"zerolinecolor\":\"white\",\"automargin\":true,\"zerolinewidth\":2},\"yaxis\":{\"gridcolor\":\"white\",\"linecolor\":\"white\",\"ticks\":\"\",\"title\":{\"standoff\":15},\"zerolinecolor\":\"white\",\"automargin\":true,\"zerolinewidth\":2},\"scene\":{\"xaxis\":{\"backgroundcolor\":\"#E5ECF6\",\"gridcolor\":\"white\",\"linecolor\":\"white\",\"showbackground\":true,\"ticks\":\"\",\"zerolinecolor\":\"white\",\"gridwidth\":2},\"yaxis\":{\"backgroundcolor\":\"#E5ECF6\",\"gridcolor\":\"white\",\"linecolor\":\"white\",\"showbackground\":true,\"ticks\":\"\",\"zerolinecolor\":\"white\",\"gridwidth\":2},\"zaxis\":{\"backgroundcolor\":\"#E5ECF6\",\"gridcolor\":\"white\",\"linecolor\":\"white\",\"showbackground\":true,\"ticks\":\"\",\"zerolinecolor\":\"white\",\"gridwidth\":2}},\"shapedefaults\":{\"line\":{\"color\":\"#2a3f5f\"}},\"annotationdefaults\":{\"arrowcolor\":\"#2a3f5f\",\"arrowhead\":0,\"arrowwidth\":1},\"geo\":{\"bgcolor\":\"white\",\"landcolor\":\"#E5ECF6\",\"subunitcolor\":\"white\",\"showland\":true,\"showlakes\":true,\"lakecolor\":\"white\"},\"title\":{\"x\":0.05},\"mapbox\":{\"style\":\"light\"}}},\"xaxis\":{\"anchor\":\"y\",\"domain\":[0.0,1.0],\"title\":{\"text\":\"param_count_x\"},\"type\":\"log\"},\"yaxis\":{\"anchor\":\"x\",\"domain\":[0.0,1.0],\"title\":{\"text\":\"secs\"},\"type\":\"log\"},\"coloraxis\":{\"colorbar\":{\"title\":{\"text\":\"infer_img_size\"}},\"colorscale\":[[0.0,\"#0d0887\"],[0.1111111111111111,\"#46039f\"],[0.2222222222222222,\"#7201a8\"],[0.3333333333333333,\"#9c179e\"],[0.4444444444444444,\"#bd3786\"],[0.5555555555555556,\"#d8576b\"],[0.6666666666666666,\"#ed7953\"],[0.7777777777777778,\"#fb9f3a\"],[0.8888888888888888,\"#fdca26\"],[1.0,\"#f0f921\"]]},\"legend\":{\"tracegroupgap\":0},\"margin\":{\"t\":60},\"height\":800,\"width\":1000},                        {\"responsive\": true}                    ).then(function(){\n",
       "                            \n",
       "var gd = document.getElementById('961760fe-3db7-40d8-9af9-bfe964838b17');\n",
       "var x = new MutationObserver(function (mutations, observer) {{\n",
       "        var display = window.getComputedStyle(gd).display;\n",
       "        if (!display || display === 'none') {{\n",
       "            console.log([gd, 'removed!']);\n",
       "            Plotly.purge(gd);\n",
       "            observer.disconnect();\n",
       "        }}\n",
       "}});\n",
       "\n",
       "// Listen for the removal of the full notebook cells\n",
       "var notebookContainer = gd.closest('#notebook-container');\n",
       "if (notebookContainer) {{\n",
       "    x.observe(notebookContainer, {childList: true});\n",
       "}}\n",
       "\n",
       "// Listen for the clearing of the current output cell\n",
       "var outputEl = gd.closest('.output');\n",
       "if (outputEl) {{\n",
       "    x.observe(outputEl, {childList: true});\n",
       "}}\n",
       "\n",
       "                        })                };                });            </script>        </div>"
      ]
     },
     "metadata": {},
     "output_type": "display_data"
    }
   ],
   "source": [
    "px.scatter(df, width=w, height=h,\n",
    "    x='param_count_x',  y='secs', log_x=True, log_y=True, color='infer_img_size',\n",
    "    hover_name='model', hover_data=['infer_samples_per_sec', 'family']\n",
    ")"
   ]
  },
  {
   "cell_type": "markdown",
   "id": "9c7cbd6f",
   "metadata": {
    "papermill": {
     "duration": 0.008355,
     "end_time": "2023-04-11T16:43:32.202860",
     "exception": false,
     "start_time": "2023-04-11T16:43:32.194505",
     "status": "completed"
    },
    "tags": []
   },
   "source": [
    "## Training results"
   ]
  },
  {
   "cell_type": "markdown",
   "id": "b0d95d09",
   "metadata": {
    "papermill": {
     "duration": 0.008463,
     "end_time": "2023-04-11T16:43:32.219995",
     "exception": false,
     "start_time": "2023-04-11T16:43:32.211532",
     "status": "completed"
    },
    "tags": []
   },
   "source": [
    "We'll now replicate the above analysis for training performance. First we grab the data:"
   ]
  },
  {
   "cell_type": "code",
   "execution_count": 11,
   "id": "29e86249",
   "metadata": {
    "execution": {
     "iopub.execute_input": "2023-04-11T16:43:32.239340Z",
     "iopub.status.busy": "2023-04-11T16:43:32.238877Z",
     "iopub.status.idle": "2023-04-11T16:43:32.261933Z",
     "shell.execute_reply": "2023-04-11T16:43:32.260470Z"
    },
    "papermill": {
     "duration": 0.036105,
     "end_time": "2023-04-11T16:43:32.264784",
     "exception": false,
     "start_time": "2023-04-11T16:43:32.228679",
     "status": "completed"
    },
    "tags": []
   },
   "outputs": [],
   "source": [
    "tdf = get_data('train', 'train_samples_per_sec')"
   ]
  },
  {
   "cell_type": "markdown",
   "id": "5badc4f2",
   "metadata": {
    "papermill": {
     "duration": 0.008477,
     "end_time": "2023-04-11T16:43:32.281960",
     "exception": false,
     "start_time": "2023-04-11T16:43:32.273483",
     "status": "completed"
    },
    "tags": []
   },
   "source": [
    "Now we can repeat the same *family* plot we did above:"
   ]
  },
  {
   "cell_type": "code",
   "execution_count": 12,
   "id": "7884eee2",
   "metadata": {
    "execution": {
     "iopub.execute_input": "2023-04-11T16:43:32.301158Z",
     "iopub.status.busy": "2023-04-11T16:43:32.300679Z",
     "iopub.status.idle": "2023-04-11T16:43:32.454703Z",
     "shell.execute_reply": "2023-04-11T16:43:32.453416Z"
    },
    "papermill": {
     "duration": 0.167085,
     "end_time": "2023-04-11T16:43:32.457619",
     "exception": false,
     "start_time": "2023-04-11T16:43:32.290534",
     "status": "completed"
    },
    "tags": []
   },
   "outputs": [
    {
     "data": {
      "text/html": [
       "<div>                            <div id=\"b42a11e7-81f3-4336-8073-da9117fe8260\" class=\"plotly-graph-div\" style=\"height:800px; width:1000px;\"></div>            <script type=\"text/javascript\">                require([\"plotly\"], function(Plotly) {                    window.PLOTLYENV=window.PLOTLYENV || {};                                    if (document.getElementById(\"b42a11e7-81f3-4336-8073-da9117fe8260\")) {                    Plotly.newPlot(                        \"b42a11e7-81f3-4336-8073-da9117fe8260\",                        [{\"customdata\":[[224],[224],[224],[224],[224]],\"hovertemplate\":\"<b>%{hovertext}</b><br><br>family=levit<br>secs=%{x}<br>top1=%{y}<br>size=%{marker.size}<br>train_img_size=%{customdata[0]}<extra></extra>\",\"hovertext\":[\"levit_128s\",\"levit_128\",\"levit_192\",\"levit_256\",\"levit_384\"],\"legendgroup\":\"levit\",\"marker\":{\"color\":\"#636efa\",\"size\":[50176,50176,50176,50176,50176],\"sizemode\":\"area\",\"sizeref\":576.0,\"symbol\":\"circle\"},\"mode\":\"markers\",\"name\":\"levit\",\"orientation\":\"v\",\"showlegend\":true,\"x\":[0.00015865108501477042,0.00022550151537018326,0.00026151037934695625,0.000342053415061296,0.0005556697765651828],\"xaxis\":\"x\",\"y\":[76.53,78.486,79.842,81.51,82.586],\"yaxis\":\"y\",\"type\":\"scatter\"},{\"customdata\":[[224],[224],[224],[256],[224],[256],[256],[224],[224],[288],[288]],\"hovertemplate\":\"<b>%{hovertext}</b><br><br>family=resnet<br>secs=%{x}<br>top1=%{y}<br>size=%{marker.size}<br>train_img_size=%{customdata[0]}<extra></extra>\",\"hovertext\":[\"resnet18\",\"resnet34\",\"resnet26\",\"resnet26t\",\"resnet50\",\"resnet32ts\",\"resnet33ts\",\"resnet101\",\"resnet152\",\"resnet51q\",\"resnet61q\"],\"legendgroup\":\"resnet\",\"marker\":{\"color\":\"#EF553B\",\"size\":[50176,50176,50176,65536,50176,65536,65536,50176,50176,82944,82944],\"sizemode\":\"area\",\"sizeref\":576.0,\"symbol\":\"circle\"},\"mode\":\"markers\",\"name\":\"resnet\",\"orientation\":\"v\",\"showlegend\":true,\"x\":[0.000279003066243698,0.0004805543675183692,0.0005087349795997273,0.000814431730260211,0.0008179223137386412,0.0009786938352075321,0.0009906973518659784,0.0013745704467353953,0.0020006802312786346,0.0035980282805022847,0.004809773459670049],\"xaxis\":\"x\",\"y\":[69.748,75.11,75.292,77.882,80.374,79.004,79.214,81.938,82.822,82.36,82.524],\"yaxis\":\"y\",\"type\":\"scatter\"},{\"customdata\":[[224],[224],[224],[224],[320],[320],[320]],\"hovertemplate\":\"<b>%{hovertext}</b><br><br>family=resnetd<br>secs=%{x}<br>top1=%{y}<br>size=%{marker.size}<br>train_img_size=%{customdata[0]}<extra></extra>\",\"hovertext\":[\"resnet18d\",\"resnet34d\",\"resnet26d\",\"resnet50d\",\"resnet101d\",\"resnet152d\",\"resnet200d\"],\"legendgroup\":\"resnetd\",\"marker\":{\"color\":\"#00cc96\",\"size\":[50176,50176,50176,50176,102400,102400,102400],\"sizemode\":\"area\",\"sizeref\":576.0,\"symbol\":\"circle\"},\"mode\":\"markers\",\"name\":\"resnetd\",\"orientation\":\"v\",\"showlegend\":true,\"x\":[0.0003533543932551713,0.0005558550996926121,0.0006213611537433903,0.0009343960531110716,0.003054274457102715,0.0046277014207043365,0.006017209218364523],\"xaxis\":\"x\",\"y\":[72.26,77.116,76.696,80.53,83.022,83.68,83.962],\"yaxis\":\"y\",\"type\":\"scatter\"},{\"customdata\":[[224],[224],[224],[224],[224],[224],[224],[224],[224],[224],[224],[224]],\"hovertemplate\":\"<b>%{hovertext}</b><br><br>family=regnetx<br>secs=%{x}<br>top1=%{y}<br>size=%{marker.size}<br>train_img_size=%{customdata[0]}<extra></extra>\",\"hovertext\":[\"regnetx_002\",\"regnetx_004\",\"regnetx_006\",\"regnetx_008\",\"regnetx_016\",\"regnetx_032\",\"regnetx_040\",\"regnetx_080\",\"regnetx_064\",\"regnetx_120\",\"regnetx_160\",\"regnetx_320\"],\"legendgroup\":\"regnetx\",\"marker\":{\"color\":\"#ab63fa\",\"size\":[50176,50176,50176,50176,50176,50176,50176,50176,50176,50176,50176,50176],\"sizemode\":\"area\",\"sizeref\":576.0,\"symbol\":\"circle\"},\"mode\":\"markers\",\"name\":\"regnetx\",\"orientation\":\"v\",\"showlegend\":true,\"x\":[0.0004215904922912179,0.0008689456213830139,0.0012649261283141065,0.001689760054072322,0.002637061258933045,0.005628095452498874,0.006177796997590659,0.0066657778962804955,0.008056070248932571,0.012896569512509672,0.015382248884786955,0.021663778162911613],\"xaxis\":\"x\",\"y\":[68.762,72.396,73.852,75.038,76.95,78.172,78.482,79.194,79.072,79.596,79.856,80.246],\"yaxis\":\"y\",\"type\":\"scatter\"},{\"customdata\":[[224],[224],[224],[224],[224],[288],[288],[224],[288],[224],[288],[288]],\"hovertemplate\":\"<b>%{hovertext}</b><br><br>family=regnety<br>secs=%{x}<br>top1=%{y}<br>size=%{marker.size}<br>train_img_size=%{customdata[0]}<extra></extra>\",\"hovertext\":[\"regnety_002\",\"regnety_004\",\"regnety_006\",\"regnety_008\",\"regnety_016\",\"regnety_032\",\"regnety_040\",\"regnety_120\",\"regnety_064\",\"regnety_320\",\"regnety_080\",\"regnety_160\"],\"legendgroup\":\"regnety\",\"marker\":{\"color\":\"#FFA15A\",\"size\":[50176,50176,50176,50176,50176,82944,82944,50176,82944,50176,82944,82944],\"sizemode\":\"area\",\"sizeref\":576.0,\"symbol\":\"circle\"},\"mode\":\"markers\",\"name\":\"regnety\",\"orientation\":\"v\",\"showlegend\":true,\"x\":[0.00044342751733801594,0.0009734728644439036,0.0012694221590332081,0.0015109848599317035,0.002829975096219153,0.005617661929105107,0.008316008316008316,0.013273161667109104,0.013757050488375293,0.014817009927396653,0.015278838808250572,0.02077274615704196],\"xaxis\":\"x\",\"y\":[70.252,74.034,75.246,76.316,77.862,82.724,83.038,80.366,83.716,80.81,83.932,83.686],\"yaxis\":\"y\",\"type\":\"scatter\"},{\"customdata\":[[224],[224],[224],[224],[224],[224],[224],[224]],\"hovertemplate\":\"<b>%{hovertext}</b><br><br>family=repvgg<br>secs=%{x}<br>top1=%{y}<br>size=%{marker.size}<br>train_img_size=%{customdata[0]}<extra></extra>\",\"hovertext\":[\"repvgg_b0\",\"repvgg_a2\",\"repvgg_b1\",\"repvgg_b2\",\"repvgg_b3\",\"repvgg_b1g4\",\"repvgg_b2g4\",\"repvgg_b3g4\"],\"legendgroup\":\"repvgg\",\"marker\":{\"color\":\"#19d3f3\",\"size\":[50176,50176,50176,50176,50176,50176,50176,50176],\"sizemode\":\"area\",\"sizeref\":576.0,\"symbol\":\"circle\"},\"mode\":\"markers\",\"name\":\"repvgg\",\"orientation\":\"v\",\"showlegend\":true,\"x\":[0.0006304573968414084,0.0008755494072530513,0.0015941081761808359,0.0026313712075362473,0.003168969451134491,0.0056050669805504175,0.00977230528681716,0.011799410029498525],\"xaxis\":\"x\",\"y\":[75.152,76.46,78.366,78.792,80.492,77.594,79.366,80.212],\"yaxis\":\"y\",\"type\":\"scatter\"},{\"customdata\":[[256],[256],[256]],\"hovertemplate\":\"<b>%{hovertext}</b><br><br>family=mobilevit<br>secs=%{x}<br>top1=%{y}<br>size=%{marker.size}<br>train_img_size=%{customdata[0]}<extra></extra>\",\"hovertext\":[\"mobilevit_xxs\",\"mobilevit_xs\",\"mobilevit_s\"],\"legendgroup\":\"mobilevit\",\"marker\":{\"color\":\"#FF6692\",\"size\":[65536,65536,65536],\"sizemode\":\"area\",\"sizeref\":576.0,\"symbol\":\"circle\"},\"mode\":\"markers\",\"name\":\"mobilevit\",\"orientation\":\"v\",\"showlegend\":true,\"x\":[0.0006599091964945623,0.0010994931336653802,0.0013611738763509651],\"xaxis\":\"x\",\"y\":[68.912,74.644,78.312],\"yaxis\":\"y\",\"type\":\"scatter\"},{\"customdata\":[[240],[240],[240],[240],[240],[240],[240],[240],[240],[408],[408]],\"hovertemplate\":\"<b>%{hovertext}</b><br><br>family=crossvit<br>secs=%{x}<br>top1=%{y}<br>size=%{marker.size}<br>train_img_size=%{customdata[0]}<extra></extra>\",\"hovertext\":[\"crossvit_tiny_240\",\"crossvit_9_240\",\"crossvit_9_dagger_240\",\"crossvit_small_240\",\"crossvit_15_240\",\"crossvit_15_dagger_240\",\"crossvit_18_240\",\"crossvit_18_dagger_240\",\"crossvit_base_240\",\"crossvit_15_dagger_408\",\"crossvit_18_dagger_408\"],\"legendgroup\":\"crossvit\",\"marker\":{\"color\":\"#B6E880\",\"size\":[57600,57600,57600,57600,57600,57600,57600,57600,57600,166464,166464],\"sizemode\":\"area\",\"sizeref\":576.0,\"symbol\":\"circle\"},\"mode\":\"markers\",\"name\":\"crossvit\",\"orientation\":\"v\",\"showlegend\":true,\"x\":[0.0007573864109730144,0.0008087343307723412,0.0008364071295343722,0.0016024613806807258,0.001759138725679907,0.0018183140592043056,0.0024990628514307135,0.002577651759247326,0.004000160006400256,0.008588851670531649,0.011364927832708264],\"xaxis\":\"x\",\"y\":[73.324,73.964,76.98,81.02,81.536,82.332,82.4,82.518,82.216,83.838,84.196],\"yaxis\":\"y\",\"type\":\"scatter\"},{\"customdata\":[[224],[224],[448],[448],[224],[448],[384],[448],[448],[480]],\"hovertemplate\":\"<b>%{hovertext}</b><br><br>family=resnetv2<br>secs=%{x}<br>top1=%{y}<br>size=%{marker.size}<br>train_img_size=%{customdata[0]}<extra></extra>\",\"hovertext\":[\"resnetv2_50\",\"resnetv2_101\",\"resnetv2_50x1_bitm\",\"resnetv2_101x1_bitm\",\"resnetv2_152x2_bit_teacher\",\"resnetv2_50x3_bitm\",\"resnetv2_152x2_bit_teacher_384\",\"resnetv2_152x2_bitm\",\"resnetv2_101x3_bitm\",\"resnetv2_152x4_bitm\"],\"legendgroup\":\"resnetv2\",\"marker\":{\"color\":\"#FF97FF\",\"size\":[50176,50176,200704,200704,50176,200704,147456,200704,200704,230400],\"sizemode\":\"area\",\"sizeref\":576.0,\"symbol\":\"circle\"},\"mode\":\"markers\",\"name\":\"resnetv2\",\"orientation\":\"v\",\"showlegend\":true,\"x\":[0.0007716049382716049,0.0013201494409167118,0.007103786318107551,0.011508804235239959,0.011574074074074073,0.03143665513989312,0.03342245989304812,0.04599816007359706,0.057045065601825436,0.22271714922048996],\"xaxis\":\"x\",\"y\":[80.432,82.03,80.342,82.332,82.862,84.014,83.844,84.51,84.44,84.916],\"yaxis\":\"y\",\"type\":\"scatter\"},{\"customdata\":[[224],[224],[224]],\"hovertemplate\":\"<b>%{hovertext}</b><br><br>family=convit<br>secs=%{x}<br>top1=%{y}<br>size=%{marker.size}<br>train_img_size=%{customdata[0]}<extra></extra>\",\"hovertext\":[\"convit_tiny\",\"convit_small\",\"convit_base\"],\"legendgroup\":\"convit\",\"marker\":{\"color\":\"#FECB52\",\"size\":[50176,50176,50176],\"sizemode\":\"area\",\"sizeref\":576.0,\"symbol\":\"circle\"},\"mode\":\"markers\",\"name\":\"convit\",\"orientation\":\"v\",\"showlegend\":true,\"x\":[0.0009024537718055393,0.0022212843466092097,0.004373496610540126],\"xaxis\":\"x\",\"y\":[73.116,81.426,82.288],\"yaxis\":\"y\",\"type\":\"scatter\"},{\"customdata\":[[224],[224],[224],[224],[224],[224],[224],[224]],\"hovertemplate\":\"<b>%{hovertext}</b><br><br>family=vgg<br>secs=%{x}<br>top1=%{y}<br>size=%{marker.size}<br>train_img_size=%{customdata[0]}<extra></extra>\",\"hovertext\":[\"vgg11\",\"vgg11_bn\",\"vgg13\",\"vgg13_bn\",\"vgg16\",\"vgg16_bn\",\"vgg19\",\"vgg19_bn\"],\"legendgroup\":\"vgg\",\"marker\":{\"color\":\"#636efa\",\"size\":[50176,50176,50176,50176,50176,50176,50176,50176],\"sizemode\":\"area\",\"sizeref\":576.0,\"symbol\":\"circle\"},\"mode\":\"markers\",\"name\":\"vgg\",\"orientation\":\"v\",\"showlegend\":true,\"x\":[0.001074575542660649,0.0012416499043929573,0.0015078180365193528,0.001758118110374655,0.001863967641521743,0.0021277953911951826,0.0022130748461912982,0.002501626056937009],\"xaxis\":\"x\",\"y\":[69.024,70.36,69.926,71.594,71.594,73.35,72.368,74.214],\"yaxis\":\"y\",\"type\":\"scatter\"},{\"customdata\":[[224]],\"hovertemplate\":\"<b>%{hovertext}</b><br><br>family=resnetblur<br>secs=%{x}<br>top1=%{y}<br>size=%{marker.size}<br>train_img_size=%{customdata[0]}<extra></extra>\",\"hovertext\":[\"resnetblur50\"],\"legendgroup\":\"resnetblur\",\"marker\":{\"color\":\"#EF553B\",\"size\":[50176],\"sizemode\":\"area\",\"sizeref\":576.0,\"symbol\":\"circle\"},\"mode\":\"markers\",\"name\":\"resnetblur\",\"orientation\":\"v\",\"showlegend\":true,\"x\":[0.001099408518217199],\"xaxis\":\"x\",\"y\":[79.286],\"yaxis\":\"y\",\"type\":\"scatter\"},{\"customdata\":[[224],[288],[320],[320],[352],[384],[416]],\"hovertemplate\":\"<b>%{hovertext}</b><br><br>family=resnetrs<br>secs=%{x}<br>top1=%{y}<br>size=%{marker.size}<br>train_img_size=%{customdata[0]}<extra></extra>\",\"hovertext\":[\"resnetrs50\",\"resnetrs101\",\"resnetrs152\",\"resnetrs200\",\"resnetrs270\",\"resnetrs350\",\"resnetrs420\"],\"legendgroup\":\"resnetrs\",\"marker\":{\"color\":\"#00cc96\",\"size\":[50176,82944,102400,102400,123904,147456,173056],\"sizemode\":\"area\",\"sizeref\":576.0,\"symbol\":\"circle\"},\"mode\":\"markers\",\"name\":\"resnetrs\",\"orientation\":\"v\",\"showlegend\":true,\"x\":[0.0011601466425356164,0.0031080997078386276,0.00584316933504733,0.00808080808080808,0.013285505513484789,0.021177467174925878,0.03105590062111801],\"xaxis\":\"x\",\"y\":[79.892,82.288,83.712,84.448,84.434,84.72,85.008],\"yaxis\":\"y\",\"type\":\"scatter\"},{\"customdata\":[[224],[288]],\"hovertemplate\":\"<b>%{hovertext}</b><br><br>family=resnetv2d<br>secs=%{x}<br>top1=%{y}<br>size=%{marker.size}<br>train_img_size=%{customdata[0]}<extra></extra>\",\"hovertext\":[\"resnetv2_50x1_bit_distilled\",\"resnetv2_50d_evos\"],\"legendgroup\":\"resnetv2d\",\"marker\":{\"color\":\"#ab63fa\",\"size\":[50176,82944],\"sizemode\":\"area\",\"sizeref\":576.0,\"symbol\":\"circle\"},\"mode\":\"markers\",\"name\":\"resnetv2d\",\"orientation\":\"v\",\"showlegend\":true,\"x\":[0.001695950071229903,0.004472271914132379],\"xaxis\":\"x\",\"y\":[82.818,81.976],\"yaxis\":\"y\",\"type\":\"scatter\"},{\"customdata\":[[320],[320],[288],[320],[320],[320],[320],[320],[320]],\"hovertemplate\":\"<b>%{hovertext}</b><br><br>family=regnetz<br>secs=%{x}<br>top1=%{y}<br>size=%{marker.size}<br>train_img_size=%{customdata[0]}<extra></extra>\",\"hovertext\":[\"regnetz_d8\",\"regnetz_c16\",\"regnetz_b16\",\"regnetz_e8\",\"regnetz_c16_evos\",\"regnetz_d8_evos\",\"regnetz_040\",\"regnetz_040h\",\"regnetz_d32\"],\"legendgroup\":\"regnetz\",\"marker\":{\"color\":\"#FFA15A\",\"size\":[102400,102400,82944,102400,102400,102400,102400,102400,102400],\"sizemode\":\"area\",\"sizeref\":576.0,\"symbol\":\"circle\"},\"mode\":\"markers\",\"name\":\"regnetz\",\"orientation\":\"v\",\"showlegend\":true,\"x\":[0.0032123353678123997,0.003997441637352095,0.005506607929515419,0.006836671908115129,0.008684324793747285,0.010453690152623877,0.010575296108291032,0.010622477161674103,0.013854253255749514],\"xaxis\":\"x\",\"y\":[84.05,82.518,80.716,85.03,82.63,84.05,84.236,84.494,84.022],\"yaxis\":\"y\",\"type\":\"scatter\"},{\"customdata\":[[288],[288]],\"hovertemplate\":\"<b>%{hovertext}</b><br><br>family=regnetv<br>secs=%{x}<br>top1=%{y}<br>size=%{marker.size}<br>train_img_size=%{customdata[0]}<extra></extra>\",\"hovertext\":[\"regnetv_040\",\"regnetv_064\"],\"legendgroup\":\"regnetv\",\"marker\":{\"color\":\"#19d3f3\",\"size\":[82944,82944],\"sizemode\":\"area\",\"sizeref\":576.0,\"symbol\":\"circle\"},\"mode\":\"markers\",\"name\":\"regnetv\",\"orientation\":\"v\",\"showlegend\":true,\"x\":[0.008409014463504878,0.013925637097897228],\"xaxis\":\"x\",\"y\":[83.194,83.712],\"yaxis\":\"y\",\"type\":\"scatter\"}],                        {\"template\":{\"data\":{\"histogram2dcontour\":[{\"type\":\"histogram2dcontour\",\"colorbar\":{\"outlinewidth\":0,\"ticks\":\"\"},\"colorscale\":[[0.0,\"#0d0887\"],[0.1111111111111111,\"#46039f\"],[0.2222222222222222,\"#7201a8\"],[0.3333333333333333,\"#9c179e\"],[0.4444444444444444,\"#bd3786\"],[0.5555555555555556,\"#d8576b\"],[0.6666666666666666,\"#ed7953\"],[0.7777777777777778,\"#fb9f3a\"],[0.8888888888888888,\"#fdca26\"],[1.0,\"#f0f921\"]]}],\"choropleth\":[{\"type\":\"choropleth\",\"colorbar\":{\"outlinewidth\":0,\"ticks\":\"\"}}],\"histogram2d\":[{\"type\":\"histogram2d\",\"colorbar\":{\"outlinewidth\":0,\"ticks\":\"\"},\"colorscale\":[[0.0,\"#0d0887\"],[0.1111111111111111,\"#46039f\"],[0.2222222222222222,\"#7201a8\"],[0.3333333333333333,\"#9c179e\"],[0.4444444444444444,\"#bd3786\"],[0.5555555555555556,\"#d8576b\"],[0.6666666666666666,\"#ed7953\"],[0.7777777777777778,\"#fb9f3a\"],[0.8888888888888888,\"#fdca26\"],[1.0,\"#f0f921\"]]}],\"heatmap\":[{\"type\":\"heatmap\",\"colorbar\":{\"outlinewidth\":0,\"ticks\":\"\"},\"colorscale\":[[0.0,\"#0d0887\"],[0.1111111111111111,\"#46039f\"],[0.2222222222222222,\"#7201a8\"],[0.3333333333333333,\"#9c179e\"],[0.4444444444444444,\"#bd3786\"],[0.5555555555555556,\"#d8576b\"],[0.6666666666666666,\"#ed7953\"],[0.7777777777777778,\"#fb9f3a\"],[0.8888888888888888,\"#fdca26\"],[1.0,\"#f0f921\"]]}],\"heatmapgl\":[{\"type\":\"heatmapgl\",\"colorbar\":{\"outlinewidth\":0,\"ticks\":\"\"},\"colorscale\":[[0.0,\"#0d0887\"],[0.1111111111111111,\"#46039f\"],[0.2222222222222222,\"#7201a8\"],[0.3333333333333333,\"#9c179e\"],[0.4444444444444444,\"#bd3786\"],[0.5555555555555556,\"#d8576b\"],[0.6666666666666666,\"#ed7953\"],[0.7777777777777778,\"#fb9f3a\"],[0.8888888888888888,\"#fdca26\"],[1.0,\"#f0f921\"]]}],\"contourcarpet\":[{\"type\":\"contourcarpet\",\"colorbar\":{\"outlinewidth\":0,\"ticks\":\"\"}}],\"contour\":[{\"type\":\"contour\",\"colorbar\":{\"outlinewidth\":0,\"ticks\":\"\"},\"colorscale\":[[0.0,\"#0d0887\"],[0.1111111111111111,\"#46039f\"],[0.2222222222222222,\"#7201a8\"],[0.3333333333333333,\"#9c179e\"],[0.4444444444444444,\"#bd3786\"],[0.5555555555555556,\"#d8576b\"],[0.6666666666666666,\"#ed7953\"],[0.7777777777777778,\"#fb9f3a\"],[0.8888888888888888,\"#fdca26\"],[1.0,\"#f0f921\"]]}],\"surface\":[{\"type\":\"surface\",\"colorbar\":{\"outlinewidth\":0,\"ticks\":\"\"},\"colorscale\":[[0.0,\"#0d0887\"],[0.1111111111111111,\"#46039f\"],[0.2222222222222222,\"#7201a8\"],[0.3333333333333333,\"#9c179e\"],[0.4444444444444444,\"#bd3786\"],[0.5555555555555556,\"#d8576b\"],[0.6666666666666666,\"#ed7953\"],[0.7777777777777778,\"#fb9f3a\"],[0.8888888888888888,\"#fdca26\"],[1.0,\"#f0f921\"]]}],\"mesh3d\":[{\"type\":\"mesh3d\",\"colorbar\":{\"outlinewidth\":0,\"ticks\":\"\"}}],\"scatter\":[{\"fillpattern\":{\"fillmode\":\"overlay\",\"size\":10,\"solidity\":0.2},\"type\":\"scatter\"}],\"parcoords\":[{\"type\":\"parcoords\",\"line\":{\"colorbar\":{\"outlinewidth\":0,\"ticks\":\"\"}}}],\"scatterpolargl\":[{\"type\":\"scatterpolargl\",\"marker\":{\"colorbar\":{\"outlinewidth\":0,\"ticks\":\"\"}}}],\"bar\":[{\"error_x\":{\"color\":\"#2a3f5f\"},\"error_y\":{\"color\":\"#2a3f5f\"},\"marker\":{\"line\":{\"color\":\"#E5ECF6\",\"width\":0.5},\"pattern\":{\"fillmode\":\"overlay\",\"size\":10,\"solidity\":0.2}},\"type\":\"bar\"}],\"scattergeo\":[{\"type\":\"scattergeo\",\"marker\":{\"colorbar\":{\"outlinewidth\":0,\"ticks\":\"\"}}}],\"scatterpolar\":[{\"type\":\"scatterpolar\",\"marker\":{\"colorbar\":{\"outlinewidth\":0,\"ticks\":\"\"}}}],\"histogram\":[{\"marker\":{\"pattern\":{\"fillmode\":\"overlay\",\"size\":10,\"solidity\":0.2}},\"type\":\"histogram\"}],\"scattergl\":[{\"type\":\"scattergl\",\"marker\":{\"colorbar\":{\"outlinewidth\":0,\"ticks\":\"\"}}}],\"scatter3d\":[{\"type\":\"scatter3d\",\"line\":{\"colorbar\":{\"outlinewidth\":0,\"ticks\":\"\"}},\"marker\":{\"colorbar\":{\"outlinewidth\":0,\"ticks\":\"\"}}}],\"scattermapbox\":[{\"type\":\"scattermapbox\",\"marker\":{\"colorbar\":{\"outlinewidth\":0,\"ticks\":\"\"}}}],\"scatterternary\":[{\"type\":\"scatterternary\",\"marker\":{\"colorbar\":{\"outlinewidth\":0,\"ticks\":\"\"}}}],\"scattercarpet\":[{\"type\":\"scattercarpet\",\"marker\":{\"colorbar\":{\"outlinewidth\":0,\"ticks\":\"\"}}}],\"carpet\":[{\"aaxis\":{\"endlinecolor\":\"#2a3f5f\",\"gridcolor\":\"white\",\"linecolor\":\"white\",\"minorgridcolor\":\"white\",\"startlinecolor\":\"#2a3f5f\"},\"baxis\":{\"endlinecolor\":\"#2a3f5f\",\"gridcolor\":\"white\",\"linecolor\":\"white\",\"minorgridcolor\":\"white\",\"startlinecolor\":\"#2a3f5f\"},\"type\":\"carpet\"}],\"table\":[{\"cells\":{\"fill\":{\"color\":\"#EBF0F8\"},\"line\":{\"color\":\"white\"}},\"header\":{\"fill\":{\"color\":\"#C8D4E3\"},\"line\":{\"color\":\"white\"}},\"type\":\"table\"}],\"barpolar\":[{\"marker\":{\"line\":{\"color\":\"#E5ECF6\",\"width\":0.5},\"pattern\":{\"fillmode\":\"overlay\",\"size\":10,\"solidity\":0.2}},\"type\":\"barpolar\"}],\"pie\":[{\"automargin\":true,\"type\":\"pie\"}]},\"layout\":{\"autotypenumbers\":\"strict\",\"colorway\":[\"#636efa\",\"#EF553B\",\"#00cc96\",\"#ab63fa\",\"#FFA15A\",\"#19d3f3\",\"#FF6692\",\"#B6E880\",\"#FF97FF\",\"#FECB52\"],\"font\":{\"color\":\"#2a3f5f\"},\"hovermode\":\"closest\",\"hoverlabel\":{\"align\":\"left\"},\"paper_bgcolor\":\"white\",\"plot_bgcolor\":\"#E5ECF6\",\"polar\":{\"bgcolor\":\"#E5ECF6\",\"angularaxis\":{\"gridcolor\":\"white\",\"linecolor\":\"white\",\"ticks\":\"\"},\"radialaxis\":{\"gridcolor\":\"white\",\"linecolor\":\"white\",\"ticks\":\"\"}},\"ternary\":{\"bgcolor\":\"#E5ECF6\",\"aaxis\":{\"gridcolor\":\"white\",\"linecolor\":\"white\",\"ticks\":\"\"},\"baxis\":{\"gridcolor\":\"white\",\"linecolor\":\"white\",\"ticks\":\"\"},\"caxis\":{\"gridcolor\":\"white\",\"linecolor\":\"white\",\"ticks\":\"\"}},\"coloraxis\":{\"colorbar\":{\"outlinewidth\":0,\"ticks\":\"\"}},\"colorscale\":{\"sequential\":[[0.0,\"#0d0887\"],[0.1111111111111111,\"#46039f\"],[0.2222222222222222,\"#7201a8\"],[0.3333333333333333,\"#9c179e\"],[0.4444444444444444,\"#bd3786\"],[0.5555555555555556,\"#d8576b\"],[0.6666666666666666,\"#ed7953\"],[0.7777777777777778,\"#fb9f3a\"],[0.8888888888888888,\"#fdca26\"],[1.0,\"#f0f921\"]],\"sequentialminus\":[[0.0,\"#0d0887\"],[0.1111111111111111,\"#46039f\"],[0.2222222222222222,\"#7201a8\"],[0.3333333333333333,\"#9c179e\"],[0.4444444444444444,\"#bd3786\"],[0.5555555555555556,\"#d8576b\"],[0.6666666666666666,\"#ed7953\"],[0.7777777777777778,\"#fb9f3a\"],[0.8888888888888888,\"#fdca26\"],[1.0,\"#f0f921\"]],\"diverging\":[[0,\"#8e0152\"],[0.1,\"#c51b7d\"],[0.2,\"#de77ae\"],[0.3,\"#f1b6da\"],[0.4,\"#fde0ef\"],[0.5,\"#f7f7f7\"],[0.6,\"#e6f5d0\"],[0.7,\"#b8e186\"],[0.8,\"#7fbc41\"],[0.9,\"#4d9221\"],[1,\"#276419\"]]},\"xaxis\":{\"gridcolor\":\"white\",\"linecolor\":\"white\",\"ticks\":\"\",\"title\":{\"standoff\":15},\"zerolinecolor\":\"white\",\"automargin\":true,\"zerolinewidth\":2},\"yaxis\":{\"gridcolor\":\"white\",\"linecolor\":\"white\",\"ticks\":\"\",\"title\":{\"standoff\":15},\"zerolinecolor\":\"white\",\"automargin\":true,\"zerolinewidth\":2},\"scene\":{\"xaxis\":{\"backgroundcolor\":\"#E5ECF6\",\"gridcolor\":\"white\",\"linecolor\":\"white\",\"showbackground\":true,\"ticks\":\"\",\"zerolinecolor\":\"white\",\"gridwidth\":2},\"yaxis\":{\"backgroundcolor\":\"#E5ECF6\",\"gridcolor\":\"white\",\"linecolor\":\"white\",\"showbackground\":true,\"ticks\":\"\",\"zerolinecolor\":\"white\",\"gridwidth\":2},\"zaxis\":{\"backgroundcolor\":\"#E5ECF6\",\"gridcolor\":\"white\",\"linecolor\":\"white\",\"showbackground\":true,\"ticks\":\"\",\"zerolinecolor\":\"white\",\"gridwidth\":2}},\"shapedefaults\":{\"line\":{\"color\":\"#2a3f5f\"}},\"annotationdefaults\":{\"arrowcolor\":\"#2a3f5f\",\"arrowhead\":0,\"arrowwidth\":1},\"geo\":{\"bgcolor\":\"white\",\"landcolor\":\"#E5ECF6\",\"subunitcolor\":\"white\",\"showland\":true,\"showlakes\":true,\"lakecolor\":\"white\"},\"title\":{\"x\":0.05},\"mapbox\":{\"style\":\"light\"}}},\"xaxis\":{\"anchor\":\"y\",\"domain\":[0.0,1.0],\"title\":{\"text\":\"secs\"},\"type\":\"log\"},\"yaxis\":{\"anchor\":\"x\",\"domain\":[0.0,1.0],\"title\":{\"text\":\"top1\"}},\"legend\":{\"title\":{\"text\":\"family\"},\"tracegroupgap\":0,\"itemsizing\":\"constant\"},\"title\":{\"text\":\"Training\"},\"height\":800,\"width\":1000},                        {\"responsive\": true}                    ).then(function(){\n",
       "                            \n",
       "var gd = document.getElementById('b42a11e7-81f3-4336-8073-da9117fe8260');\n",
       "var x = new MutationObserver(function (mutations, observer) {{\n",
       "        var display = window.getComputedStyle(gd).display;\n",
       "        if (!display || display === 'none') {{\n",
       "            console.log([gd, 'removed!']);\n",
       "            Plotly.purge(gd);\n",
       "            observer.disconnect();\n",
       "        }}\n",
       "}});\n",
       "\n",
       "// Listen for the removal of the full notebook cells\n",
       "var notebookContainer = gd.closest('#notebook-container');\n",
       "if (notebookContainer) {{\n",
       "    x.observe(notebookContainer, {childList: true});\n",
       "}}\n",
       "\n",
       "// Listen for the clearing of the current output cell\n",
       "var outputEl = gd.closest('.output');\n",
       "if (outputEl) {{\n",
       "    x.observe(outputEl, {childList: true});\n",
       "}}\n",
       "\n",
       "                        })                };                });            </script>        </div>"
      ]
     },
     "metadata": {},
     "output_type": "display_data"
    }
   ],
   "source": [
    "show_all(tdf, 'Training', 'train_img_size')"
   ]
  },
  {
   "cell_type": "markdown",
   "id": "f61581cb",
   "metadata": {
    "papermill": {
     "duration": 0.008806,
     "end_time": "2023-04-11T16:43:32.475766",
     "exception": false,
     "start_time": "2023-04-11T16:43:32.466960",
     "status": "completed"
    },
    "tags": []
   },
   "source": [
    "...and we'll also look at our chosen subset of models:"
   ]
  },
  {
   "cell_type": "code",
   "execution_count": 13,
   "id": "5b2f95e8",
   "metadata": {
    "execution": {
     "iopub.execute_input": "2023-04-11T16:43:32.496453Z",
     "iopub.status.busy": "2023-04-11T16:43:32.495960Z",
     "iopub.status.idle": "2023-04-11T16:43:32.616483Z",
     "shell.execute_reply": "2023-04-11T16:43:32.615099Z"
    },
    "papermill": {
     "duration": 0.134088,
     "end_time": "2023-04-11T16:43:32.619214",
     "exception": false,
     "start_time": "2023-04-11T16:43:32.485126",
     "status": "completed"
    },
    "tags": []
   },
   "outputs": [
    {
     "data": {
      "text/html": [
       "<div>                            <div id=\"2d4d7426-ad65-4469-a0e3-5d04aec04baa\" class=\"plotly-graph-div\" style=\"height:800px; width:1000px;\"></div>            <script type=\"text/javascript\">                require([\"plotly\"], function(Plotly) {                    window.PLOTLYENV=window.PLOTLYENV || {};                                    if (document.getElementById(\"2d4d7426-ad65-4469-a0e3-5d04aec04baa\")) {                    Plotly.newPlot(                        \"2d4d7426-ad65-4469-a0e3-5d04aec04baa\",                        [{\"customdata\":[[224],[224],[224],[224],[224]],\"hovertemplate\":\"<b>%{hovertext}</b><br><br>family=levit<br>secs=%{x}<br>top1=%{y}<br>size=%{marker.size}<br>train_img_size=%{customdata[0]}<extra></extra>\",\"hovertext\":[\"levit_128s\",\"levit_128\",\"levit_192\",\"levit_256\",\"levit_384\"],\"legendgroup\":\"levit\",\"marker\":{\"color\":\"#636efa\",\"size\":[50176,50176,50176,50176,50176],\"sizemode\":\"area\",\"sizeref\":256.0,\"symbol\":\"circle\"},\"mode\":\"markers\",\"name\":\"levit\",\"orientation\":\"v\",\"showlegend\":true,\"x\":[0.00015865108501477042,0.00022550151537018326,0.00026151037934695625,0.000342053415061296,0.0005556697765651828],\"xaxis\":\"x\",\"y\":[76.53,78.486,79.842,81.51,82.586],\"yaxis\":\"y\",\"type\":\"scatter\"},{\"hovertemplate\":\"<b>OLS trendline</b><br>top1 = 11.4401 * log10(secs) + 120.403<br>R<sup>2</sup>=0.944202<br><br>family=levit<br>secs=%{x}<br>top1=%{y} <b>(trend)</b><extra></extra>\",\"legendgroup\":\"levit\",\"marker\":{\"color\":\"#636efa\",\"symbol\":\"circle\"},\"mode\":\"lines\",\"name\":\"levit\",\"showlegend\":false,\"x\":[0.00015865108501477042,0.00022550151537018326,0.00026151037934695625,0.000342053415061296,0.0005556697765651828],\"xaxis\":\"x\",\"y\":[76.93587257041378,78.68284246652385,79.41888952763455,80.75285719856814,83.16353823685976],\"yaxis\":\"y\",\"type\":\"scatter\"},{\"customdata\":[[224],[224],[224],[256],[224],[256],[256],[224],[224],[288],[288]],\"hovertemplate\":\"<b>%{hovertext}</b><br><br>family=resnet<br>secs=%{x}<br>top1=%{y}<br>size=%{marker.size}<br>train_img_size=%{customdata[0]}<extra></extra>\",\"hovertext\":[\"resnet18\",\"resnet34\",\"resnet26\",\"resnet26t\",\"resnet50\",\"resnet32ts\",\"resnet33ts\",\"resnet101\",\"resnet152\",\"resnet51q\",\"resnet61q\"],\"legendgroup\":\"resnet\",\"marker\":{\"color\":\"#EF553B\",\"size\":[50176,50176,50176,65536,50176,65536,65536,50176,50176,82944,82944],\"sizemode\":\"area\",\"sizeref\":256.0,\"symbol\":\"circle\"},\"mode\":\"markers\",\"name\":\"resnet\",\"orientation\":\"v\",\"showlegend\":true,\"x\":[0.000279003066243698,0.0004805543675183692,0.0005087349795997273,0.000814431730260211,0.0008179223137386412,0.0009786938352075321,0.0009906973518659784,0.0013745704467353953,0.0020006802312786346,0.0035980282805022847,0.004809773459670049],\"xaxis\":\"x\",\"y\":[69.748,75.11,75.292,77.882,80.374,79.004,79.214,81.938,82.822,82.36,82.524],\"yaxis\":\"y\",\"type\":\"scatter\"},{\"hovertemplate\":\"<b>OLS trendline</b><br>top1 = 9.6318 * log10(secs) + 107.366<br>R<sup>2</sup>=0.783987<br><br>family=resnet<br>secs=%{x}<br>top1=%{y} <b>(trend)</b><extra></extra>\",\"legendgroup\":\"resnet\",\"marker\":{\"color\":\"#EF553B\",\"symbol\":\"circle\"},\"mode\":\"lines\",\"name\":\"resnet\",\"showlegend\":false,\"x\":[0.000279003066243698,0.0004805543675183692,0.0005087349795997273,0.000814431730260211,0.0008179223137386412,0.0009786938352075321,0.0009906973518659784,0.0013745704467353953,0.0020006802312786346,0.0035980282805022847,0.004809773459670049],\"xaxis\":\"x\",\"y\":[73.13031127032704,75.40470352735171,75.64308174714776,77.61146707190882,77.62935690569128,78.38000964239907,78.43100185556662,79.80089491068142,81.37098192795938,83.82600268521719,85.04018845574932],\"yaxis\":\"y\",\"type\":\"scatter\"},{\"customdata\":[[224],[224],[224],[224],[320],[320],[320]],\"hovertemplate\":\"<b>%{hovertext}</b><br><br>family=resnetd<br>secs=%{x}<br>top1=%{y}<br>size=%{marker.size}<br>train_img_size=%{customdata[0]}<extra></extra>\",\"hovertext\":[\"resnet18d\",\"resnet34d\",\"resnet26d\",\"resnet50d\",\"resnet101d\",\"resnet152d\",\"resnet200d\"],\"legendgroup\":\"resnetd\",\"marker\":{\"color\":\"#00cc96\",\"size\":[50176,50176,50176,50176,102400,102400,102400],\"sizemode\":\"area\",\"sizeref\":256.0,\"symbol\":\"circle\"},\"mode\":\"markers\",\"name\":\"resnetd\",\"orientation\":\"v\",\"showlegend\":true,\"x\":[0.0003533543932551713,0.0005558550996926121,0.0006213611537433903,0.0009343960531110716,0.003054274457102715,0.0046277014207043365,0.006017209218364523],\"xaxis\":\"x\",\"y\":[72.26,77.116,76.696,80.53,83.022,83.68,83.962],\"yaxis\":\"y\",\"type\":\"scatter\"},{\"hovertemplate\":\"<b>OLS trendline</b><br>top1 = 8.4217 * log10(secs) + 103.687<br>R<sup>2</sup>=0.886480<br><br>family=resnetd<br>secs=%{x}<br>top1=%{y} <b>(trend)</b><extra></extra>\",\"legendgroup\":\"resnetd\",\"marker\":{\"color\":\"#00cc96\",\"symbol\":\"circle\"},\"mode\":\"lines\",\"name\":\"resnetd\",\"showlegend\":false,\"x\":[0.0003533543932551713,0.0005558550996926121,0.0006213611537433903,0.0009343960531110716,0.003054274457102715,0.0046277014207043365,0.006017209218364523],\"xaxis\":\"x\",\"y\":[74.61747678050328,76.27445500681844,76.68191781720961,78.1741322503257,82.50606025549067,84.02581678521594,84.98614110443594],\"yaxis\":\"y\",\"type\":\"scatter\"},{\"customdata\":[[224],[224],[224],[224],[224],[224],[224],[224],[224],[224],[224],[224]],\"hovertemplate\":\"<b>%{hovertext}</b><br><br>family=regnetx<br>secs=%{x}<br>top1=%{y}<br>size=%{marker.size}<br>train_img_size=%{customdata[0]}<extra></extra>\",\"hovertext\":[\"regnetx_002\",\"regnetx_004\",\"regnetx_006\",\"regnetx_008\",\"regnetx_016\",\"regnetx_032\",\"regnetx_040\",\"regnetx_080\",\"regnetx_064\",\"regnetx_120\",\"regnetx_160\",\"regnetx_320\"],\"legendgroup\":\"regnetx\",\"marker\":{\"color\":\"#ab63fa\",\"size\":[50176,50176,50176,50176,50176,50176,50176,50176,50176,50176,50176,50176],\"sizemode\":\"area\",\"sizeref\":256.0,\"symbol\":\"circle\"},\"mode\":\"markers\",\"name\":\"regnetx\",\"orientation\":\"v\",\"showlegend\":true,\"x\":[0.0004215904922912179,0.0008689456213830139,0.0012649261283141065,0.001689760054072322,0.002637061258933045,0.005628095452498874,0.006177796997590659,0.0066657778962804955,0.008056070248932571,0.012896569512509672,0.015382248884786955,0.021663778162911613],\"xaxis\":\"x\",\"y\":[68.762,72.396,73.852,75.038,76.95,78.172,78.482,79.194,79.072,79.596,79.856,80.246],\"yaxis\":\"y\",\"type\":\"scatter\"},{\"hovertemplate\":\"<b>OLS trendline</b><br>top1 = 6.45253 * log10(secs) + 92.277<br>R<sup>2</sup>=0.935367<br><br>family=regnetx<br>secs=%{x}<br>top1=%{y} <b>(trend)</b><extra></extra>\",\"legendgroup\":\"regnetx\",\"marker\":{\"color\":\"#ab63fa\",\"symbol\":\"circle\"},\"mode\":\"lines\",\"name\":\"regnetx\",\"showlegend\":false,\"x\":[0.0004215904922912179,0.0008689456213830139,0.0012649261283141065,0.001689760054072322,0.002637061258933045,0.005628095452498874,0.006177796997590659,0.0066657778962804955,0.008056070248932571,0.012896569512509672,0.015382248884786955,0.021663778162911613],\"xaxis\":\"x\",\"y\":[70.49903511194991,72.52578756388105,73.57801881174277,74.38948867195558,75.63673236797065,77.76117260084547,78.0223207063466,78.23536534440285,78.7662308307097,80.08481231749634,80.57872559335351,81.53831007934525],\"yaxis\":\"y\",\"type\":\"scatter\"},{\"customdata\":[[224],[224],[224],[224],[224],[224],[224],[224]],\"hovertemplate\":\"<b>%{hovertext}</b><br><br>family=vgg<br>secs=%{x}<br>top1=%{y}<br>size=%{marker.size}<br>train_img_size=%{customdata[0]}<extra></extra>\",\"hovertext\":[\"vgg11\",\"vgg11_bn\",\"vgg13\",\"vgg13_bn\",\"vgg16\",\"vgg16_bn\",\"vgg19\",\"vgg19_bn\"],\"legendgroup\":\"vgg\",\"marker\":{\"color\":\"#FFA15A\",\"size\":[50176,50176,50176,50176,50176,50176,50176,50176],\"sizemode\":\"area\",\"sizeref\":256.0,\"symbol\":\"circle\"},\"mode\":\"markers\",\"name\":\"vgg\",\"orientation\":\"v\",\"showlegend\":true,\"x\":[0.001074575542660649,0.0012416499043929573,0.0015078180365193528,0.001758118110374655,0.001863967641521743,0.0021277953911951826,0.0022130748461912982,0.002501626056937009],\"xaxis\":\"x\",\"y\":[69.024,70.36,69.926,71.594,71.594,73.35,72.368,74.214],\"yaxis\":\"y\",\"type\":\"scatter\"},{\"hovertemplate\":\"<b>OLS trendline</b><br>top1 = 12.958 * log10(secs) + 107.366<br>R<sup>2</sup>=0.887398<br><br>family=vgg<br>secs=%{x}<br>top1=%{y} <b>(trend)</b><extra></extra>\",\"legendgroup\":\"vgg\",\"marker\":{\"color\":\"#FFA15A\",\"symbol\":\"circle\"},\"mode\":\"lines\",\"name\":\"vgg\",\"showlegend\":false,\"x\":[0.001074575542660649,0.0012416499043929573,0.0015078180365193528,0.001758118110374655,0.001863967641521743,0.0021277953911951826,0.0022130748461912982,0.002501626056937009],\"xaxis\":\"x\",\"y\":[68.89683377874996,69.71010679889501,70.80311162679669,71.66739909526976,71.99640701122314,72.74138211097751,72.96252651556337,73.65223306252325],\"yaxis\":\"y\",\"type\":\"scatter\"}],                        {\"template\":{\"data\":{\"histogram2dcontour\":[{\"type\":\"histogram2dcontour\",\"colorbar\":{\"outlinewidth\":0,\"ticks\":\"\"},\"colorscale\":[[0.0,\"#0d0887\"],[0.1111111111111111,\"#46039f\"],[0.2222222222222222,\"#7201a8\"],[0.3333333333333333,\"#9c179e\"],[0.4444444444444444,\"#bd3786\"],[0.5555555555555556,\"#d8576b\"],[0.6666666666666666,\"#ed7953\"],[0.7777777777777778,\"#fb9f3a\"],[0.8888888888888888,\"#fdca26\"],[1.0,\"#f0f921\"]]}],\"choropleth\":[{\"type\":\"choropleth\",\"colorbar\":{\"outlinewidth\":0,\"ticks\":\"\"}}],\"histogram2d\":[{\"type\":\"histogram2d\",\"colorbar\":{\"outlinewidth\":0,\"ticks\":\"\"},\"colorscale\":[[0.0,\"#0d0887\"],[0.1111111111111111,\"#46039f\"],[0.2222222222222222,\"#7201a8\"],[0.3333333333333333,\"#9c179e\"],[0.4444444444444444,\"#bd3786\"],[0.5555555555555556,\"#d8576b\"],[0.6666666666666666,\"#ed7953\"],[0.7777777777777778,\"#fb9f3a\"],[0.8888888888888888,\"#fdca26\"],[1.0,\"#f0f921\"]]}],\"heatmap\":[{\"type\":\"heatmap\",\"colorbar\":{\"outlinewidth\":0,\"ticks\":\"\"},\"colorscale\":[[0.0,\"#0d0887\"],[0.1111111111111111,\"#46039f\"],[0.2222222222222222,\"#7201a8\"],[0.3333333333333333,\"#9c179e\"],[0.4444444444444444,\"#bd3786\"],[0.5555555555555556,\"#d8576b\"],[0.6666666666666666,\"#ed7953\"],[0.7777777777777778,\"#fb9f3a\"],[0.8888888888888888,\"#fdca26\"],[1.0,\"#f0f921\"]]}],\"heatmapgl\":[{\"type\":\"heatmapgl\",\"colorbar\":{\"outlinewidth\":0,\"ticks\":\"\"},\"colorscale\":[[0.0,\"#0d0887\"],[0.1111111111111111,\"#46039f\"],[0.2222222222222222,\"#7201a8\"],[0.3333333333333333,\"#9c179e\"],[0.4444444444444444,\"#bd3786\"],[0.5555555555555556,\"#d8576b\"],[0.6666666666666666,\"#ed7953\"],[0.7777777777777778,\"#fb9f3a\"],[0.8888888888888888,\"#fdca26\"],[1.0,\"#f0f921\"]]}],\"contourcarpet\":[{\"type\":\"contourcarpet\",\"colorbar\":{\"outlinewidth\":0,\"ticks\":\"\"}}],\"contour\":[{\"type\":\"contour\",\"colorbar\":{\"outlinewidth\":0,\"ticks\":\"\"},\"colorscale\":[[0.0,\"#0d0887\"],[0.1111111111111111,\"#46039f\"],[0.2222222222222222,\"#7201a8\"],[0.3333333333333333,\"#9c179e\"],[0.4444444444444444,\"#bd3786\"],[0.5555555555555556,\"#d8576b\"],[0.6666666666666666,\"#ed7953\"],[0.7777777777777778,\"#fb9f3a\"],[0.8888888888888888,\"#fdca26\"],[1.0,\"#f0f921\"]]}],\"surface\":[{\"type\":\"surface\",\"colorbar\":{\"outlinewidth\":0,\"ticks\":\"\"},\"colorscale\":[[0.0,\"#0d0887\"],[0.1111111111111111,\"#46039f\"],[0.2222222222222222,\"#7201a8\"],[0.3333333333333333,\"#9c179e\"],[0.4444444444444444,\"#bd3786\"],[0.5555555555555556,\"#d8576b\"],[0.6666666666666666,\"#ed7953\"],[0.7777777777777778,\"#fb9f3a\"],[0.8888888888888888,\"#fdca26\"],[1.0,\"#f0f921\"]]}],\"mesh3d\":[{\"type\":\"mesh3d\",\"colorbar\":{\"outlinewidth\":0,\"ticks\":\"\"}}],\"scatter\":[{\"fillpattern\":{\"fillmode\":\"overlay\",\"size\":10,\"solidity\":0.2},\"type\":\"scatter\"}],\"parcoords\":[{\"type\":\"parcoords\",\"line\":{\"colorbar\":{\"outlinewidth\":0,\"ticks\":\"\"}}}],\"scatterpolargl\":[{\"type\":\"scatterpolargl\",\"marker\":{\"colorbar\":{\"outlinewidth\":0,\"ticks\":\"\"}}}],\"bar\":[{\"error_x\":{\"color\":\"#2a3f5f\"},\"error_y\":{\"color\":\"#2a3f5f\"},\"marker\":{\"line\":{\"color\":\"#E5ECF6\",\"width\":0.5},\"pattern\":{\"fillmode\":\"overlay\",\"size\":10,\"solidity\":0.2}},\"type\":\"bar\"}],\"scattergeo\":[{\"type\":\"scattergeo\",\"marker\":{\"colorbar\":{\"outlinewidth\":0,\"ticks\":\"\"}}}],\"scatterpolar\":[{\"type\":\"scatterpolar\",\"marker\":{\"colorbar\":{\"outlinewidth\":0,\"ticks\":\"\"}}}],\"histogram\":[{\"marker\":{\"pattern\":{\"fillmode\":\"overlay\",\"size\":10,\"solidity\":0.2}},\"type\":\"histogram\"}],\"scattergl\":[{\"type\":\"scattergl\",\"marker\":{\"colorbar\":{\"outlinewidth\":0,\"ticks\":\"\"}}}],\"scatter3d\":[{\"type\":\"scatter3d\",\"line\":{\"colorbar\":{\"outlinewidth\":0,\"ticks\":\"\"}},\"marker\":{\"colorbar\":{\"outlinewidth\":0,\"ticks\":\"\"}}}],\"scattermapbox\":[{\"type\":\"scattermapbox\",\"marker\":{\"colorbar\":{\"outlinewidth\":0,\"ticks\":\"\"}}}],\"scatterternary\":[{\"type\":\"scatterternary\",\"marker\":{\"colorbar\":{\"outlinewidth\":0,\"ticks\":\"\"}}}],\"scattercarpet\":[{\"type\":\"scattercarpet\",\"marker\":{\"colorbar\":{\"outlinewidth\":0,\"ticks\":\"\"}}}],\"carpet\":[{\"aaxis\":{\"endlinecolor\":\"#2a3f5f\",\"gridcolor\":\"white\",\"linecolor\":\"white\",\"minorgridcolor\":\"white\",\"startlinecolor\":\"#2a3f5f\"},\"baxis\":{\"endlinecolor\":\"#2a3f5f\",\"gridcolor\":\"white\",\"linecolor\":\"white\",\"minorgridcolor\":\"white\",\"startlinecolor\":\"#2a3f5f\"},\"type\":\"carpet\"}],\"table\":[{\"cells\":{\"fill\":{\"color\":\"#EBF0F8\"},\"line\":{\"color\":\"white\"}},\"header\":{\"fill\":{\"color\":\"#C8D4E3\"},\"line\":{\"color\":\"white\"}},\"type\":\"table\"}],\"barpolar\":[{\"marker\":{\"line\":{\"color\":\"#E5ECF6\",\"width\":0.5},\"pattern\":{\"fillmode\":\"overlay\",\"size\":10,\"solidity\":0.2}},\"type\":\"barpolar\"}],\"pie\":[{\"automargin\":true,\"type\":\"pie\"}]},\"layout\":{\"autotypenumbers\":\"strict\",\"colorway\":[\"#636efa\",\"#EF553B\",\"#00cc96\",\"#ab63fa\",\"#FFA15A\",\"#19d3f3\",\"#FF6692\",\"#B6E880\",\"#FF97FF\",\"#FECB52\"],\"font\":{\"color\":\"#2a3f5f\"},\"hovermode\":\"closest\",\"hoverlabel\":{\"align\":\"left\"},\"paper_bgcolor\":\"white\",\"plot_bgcolor\":\"#E5ECF6\",\"polar\":{\"bgcolor\":\"#E5ECF6\",\"angularaxis\":{\"gridcolor\":\"white\",\"linecolor\":\"white\",\"ticks\":\"\"},\"radialaxis\":{\"gridcolor\":\"white\",\"linecolor\":\"white\",\"ticks\":\"\"}},\"ternary\":{\"bgcolor\":\"#E5ECF6\",\"aaxis\":{\"gridcolor\":\"white\",\"linecolor\":\"white\",\"ticks\":\"\"},\"baxis\":{\"gridcolor\":\"white\",\"linecolor\":\"white\",\"ticks\":\"\"},\"caxis\":{\"gridcolor\":\"white\",\"linecolor\":\"white\",\"ticks\":\"\"}},\"coloraxis\":{\"colorbar\":{\"outlinewidth\":0,\"ticks\":\"\"}},\"colorscale\":{\"sequential\":[[0.0,\"#0d0887\"],[0.1111111111111111,\"#46039f\"],[0.2222222222222222,\"#7201a8\"],[0.3333333333333333,\"#9c179e\"],[0.4444444444444444,\"#bd3786\"],[0.5555555555555556,\"#d8576b\"],[0.6666666666666666,\"#ed7953\"],[0.7777777777777778,\"#fb9f3a\"],[0.8888888888888888,\"#fdca26\"],[1.0,\"#f0f921\"]],\"sequentialminus\":[[0.0,\"#0d0887\"],[0.1111111111111111,\"#46039f\"],[0.2222222222222222,\"#7201a8\"],[0.3333333333333333,\"#9c179e\"],[0.4444444444444444,\"#bd3786\"],[0.5555555555555556,\"#d8576b\"],[0.6666666666666666,\"#ed7953\"],[0.7777777777777778,\"#fb9f3a\"],[0.8888888888888888,\"#fdca26\"],[1.0,\"#f0f921\"]],\"diverging\":[[0,\"#8e0152\"],[0.1,\"#c51b7d\"],[0.2,\"#de77ae\"],[0.3,\"#f1b6da\"],[0.4,\"#fde0ef\"],[0.5,\"#f7f7f7\"],[0.6,\"#e6f5d0\"],[0.7,\"#b8e186\"],[0.8,\"#7fbc41\"],[0.9,\"#4d9221\"],[1,\"#276419\"]]},\"xaxis\":{\"gridcolor\":\"white\",\"linecolor\":\"white\",\"ticks\":\"\",\"title\":{\"standoff\":15},\"zerolinecolor\":\"white\",\"automargin\":true,\"zerolinewidth\":2},\"yaxis\":{\"gridcolor\":\"white\",\"linecolor\":\"white\",\"ticks\":\"\",\"title\":{\"standoff\":15},\"zerolinecolor\":\"white\",\"automargin\":true,\"zerolinewidth\":2},\"scene\":{\"xaxis\":{\"backgroundcolor\":\"#E5ECF6\",\"gridcolor\":\"white\",\"linecolor\":\"white\",\"showbackground\":true,\"ticks\":\"\",\"zerolinecolor\":\"white\",\"gridwidth\":2},\"yaxis\":{\"backgroundcolor\":\"#E5ECF6\",\"gridcolor\":\"white\",\"linecolor\":\"white\",\"showbackground\":true,\"ticks\":\"\",\"zerolinecolor\":\"white\",\"gridwidth\":2},\"zaxis\":{\"backgroundcolor\":\"#E5ECF6\",\"gridcolor\":\"white\",\"linecolor\":\"white\",\"showbackground\":true,\"ticks\":\"\",\"zerolinecolor\":\"white\",\"gridwidth\":2}},\"shapedefaults\":{\"line\":{\"color\":\"#2a3f5f\"}},\"annotationdefaults\":{\"arrowcolor\":\"#2a3f5f\",\"arrowhead\":0,\"arrowwidth\":1},\"geo\":{\"bgcolor\":\"white\",\"landcolor\":\"#E5ECF6\",\"subunitcolor\":\"white\",\"showland\":true,\"showlakes\":true,\"lakecolor\":\"white\"},\"title\":{\"x\":0.05},\"mapbox\":{\"style\":\"light\"}}},\"xaxis\":{\"anchor\":\"y\",\"domain\":[0.0,1.0],\"title\":{\"text\":\"secs\"},\"type\":\"log\"},\"yaxis\":{\"anchor\":\"x\",\"domain\":[0.0,1.0],\"title\":{\"text\":\"top1\"}},\"legend\":{\"title\":{\"text\":\"family\"},\"tracegroupgap\":0,\"itemsizing\":\"constant\"},\"title\":{\"text\":\"Training\"},\"height\":800,\"width\":1000},                        {\"responsive\": true}                    ).then(function(){\n",
       "                            \n",
       "var gd = document.getElementById('2d4d7426-ad65-4469-a0e3-5d04aec04baa');\n",
       "var x = new MutationObserver(function (mutations, observer) {{\n",
       "        var display = window.getComputedStyle(gd).display;\n",
       "        if (!display || display === 'none') {{\n",
       "            console.log([gd, 'removed!']);\n",
       "            Plotly.purge(gd);\n",
       "            observer.disconnect();\n",
       "        }}\n",
       "}});\n",
       "\n",
       "// Listen for the removal of the full notebook cells\n",
       "var notebookContainer = gd.closest('#notebook-container');\n",
       "if (notebookContainer) {{\n",
       "    x.observe(notebookContainer, {childList: true});\n",
       "}}\n",
       "\n",
       "// Listen for the clearing of the current output cell\n",
       "var outputEl = gd.closest('.output');\n",
       "if (outputEl) {{\n",
       "    x.observe(outputEl, {childList: true});\n",
       "}}\n",
       "\n",
       "                        })                };                });            </script>        </div>"
      ]
     },
     "metadata": {},
     "output_type": "display_data"
    }
   ],
   "source": [
    "show_subs(tdf, 'Training', 'train_img_size')"
   ]
  },
  {
   "cell_type": "markdown",
   "id": "ce9831c5",
   "metadata": {
    "papermill": {
     "duration": 0.00905,
     "end_time": "2023-04-11T16:43:32.637882",
     "exception": false,
     "start_time": "2023-04-11T16:43:32.628832",
     "status": "completed"
    },
    "tags": []
   },
   "source": [
    "Finally, we should remember that speed depends on hardware. If you're using something other than a modern NVIDIA GPU, your results may be different. In particular, I suspect that transformers-based models might have worse performance in general on CPUs (although I need to study this more to be sure)."
   ]
  },
  {
   "cell_type": "code",
   "execution_count": null,
   "id": "1f18de14",
   "metadata": {
    "papermill": {
     "duration": 0.00894,
     "end_time": "2023-04-11T16:43:32.656161",
     "exception": false,
     "start_time": "2023-04-11T16:43:32.647221",
     "status": "completed"
    },
    "tags": []
   },
   "outputs": [],
   "source": []
  }
 ],
 "metadata": {
  "kernelspec": {
   "display_name": "Python 3",
   "language": "python",
   "name": "python3"
  },
  "language_info": {
   "codemirror_mode": {
    "name": "ipython",
    "version": 3
   },
   "file_extension": ".py",
   "mimetype": "text/x-python",
   "name": "python",
   "nbconvert_exporter": "python",
   "pygments_lexer": "ipython3",
   "version": "3.7.12"
  },
  "papermill": {
   "default_parameters": {},
   "duration": 21.557877,
   "end_time": "2023-04-11T16:43:33.689124",
   "environment_variables": {},
   "exception": null,
   "input_path": "__notebook__.ipynb",
   "output_path": "__notebook__.ipynb",
   "parameters": {},
   "start_time": "2023-04-11T16:43:12.131247",
   "version": "2.4.0"
  }
 },
 "nbformat": 4,
 "nbformat_minor": 5
}
